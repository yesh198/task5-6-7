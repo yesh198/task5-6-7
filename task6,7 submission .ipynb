{
 "cells": [
  {
   "cell_type": "code",
   "execution_count": 2,
   "metadata": {
    "id": "7Im2b3L5PS9F"
   },
   "outputs": [],
   "source": [
    "import pandas as pd\n",
    "import matplotlib.pyplot as plt\n",
    "import numpy as np\n",
    "from sklearn import linear_model"
   ]
  },
  {
   "cell_type": "markdown",
   "metadata": {
    "id": "Pus-xm8cPS9K"
   },
   "source": [
    "# Assignment5\n"
   ]
  },
  {
   "cell_type": "markdown",
   "metadata": {
    "id": "5t8wQRPHPS9O"
   },
   "source": [
    "## Ground Cricket Chirps\n",
    "\n",
    "In _The Song of Insects_ (1948) by George W. Pierce, Pierce mechanically measured the frequency (the number of wing vibrations per second) of chirps (or pulses of sound) made by a striped ground cricket, at various ground temperatures.  Since crickets are ectotherms (cold-blooded), the rate of their physiological processes and their overall metabolism are influenced by temperature.  Consequently, there is reason to believe that temperature would have a profound effect on aspects of their behavior, such as chirp frequency.\n",
    "\n",
    "In general, it was found that crickets did not sing at temperatures colder than 60º F. or warmer than 100º F."
   ]
  },
  {
   "cell_type": "code",
   "execution_count": 3,
   "metadata": {
    "id": "e4B-KSQKPS9P"
   },
   "outputs": [],
   "source": [
    "ground_cricket_data = {\"Chirps/Second\": [20.0, 16.0, 19.8, 18.4, 17.1, 15.5, 14.7,\n",
    "                                         15.7, 15.4, 16.3, 15.0, 17.2, 16.0, 17.0,\n",
    "                                         14.4],\n",
    "                       \"Ground Temperature\": [88.6, 71.6, 93.3, 84.3, 80.6, 75.2, 69.7,\n",
    "                                              71.6, 69.4, 83.3, 79.6, 82.6, 80.6, 83.5,\n",
    "                                              76.3]}\n",
    "df = pd.DataFrame(ground_cricket_data)"
   ]
  },
  {
   "cell_type": "markdown",
   "metadata": {
    "id": "QrhlMtQ4PS9R"
   },
   "source": [
    "### Tasks\n",
    "\n",
    "1. Find the linear regression equation for this data.\n",
    "2. Chart the original data and the equation on the chart.\n",
    "3. Find the equation's $R^2$ score (use the `.score` method) to determine whether the\n",
    "equation is a good fit for this data. (0.8 and greater is considered a strong correlation.)\n",
    "4. Extrapolate data:  If the ground temperature reached 95, then at what approximate rate would you expect the crickets to be chirping?\n",
    "5. Interpolate data:  With a listening device, you discovered that on a particular morning the crickets were chirping at a rate of 18 chirps per second.  What was the approximate ground temperature that morning? "
   ]
  },
  {
   "cell_type": "code",
   "execution_count": 4,
   "metadata": {
    "colab": {
     "base_uri": "https://localhost:8080/",
     "height": 206
    },
    "id": "xpl8nl_mP13b",
    "outputId": "1225fd27-d043-4cf8-8e42-89ca0284655a"
   },
   "outputs": [
    {
     "data": {
      "text/html": [
       "<div>\n",
       "<style scoped>\n",
       "    .dataframe tbody tr th:only-of-type {\n",
       "        vertical-align: middle;\n",
       "    }\n",
       "\n",
       "    .dataframe tbody tr th {\n",
       "        vertical-align: top;\n",
       "    }\n",
       "\n",
       "    .dataframe thead th {\n",
       "        text-align: right;\n",
       "    }\n",
       "</style>\n",
       "<table border=\"1\" class=\"dataframe\">\n",
       "  <thead>\n",
       "    <tr style=\"text-align: right;\">\n",
       "      <th></th>\n",
       "      <th>Chirps/Second</th>\n",
       "      <th>Ground Temperature</th>\n",
       "    </tr>\n",
       "  </thead>\n",
       "  <tbody>\n",
       "    <tr>\n",
       "      <th>0</th>\n",
       "      <td>20.0</td>\n",
       "      <td>88.6</td>\n",
       "    </tr>\n",
       "    <tr>\n",
       "      <th>1</th>\n",
       "      <td>16.0</td>\n",
       "      <td>71.6</td>\n",
       "    </tr>\n",
       "    <tr>\n",
       "      <th>2</th>\n",
       "      <td>19.8</td>\n",
       "      <td>93.3</td>\n",
       "    </tr>\n",
       "    <tr>\n",
       "      <th>3</th>\n",
       "      <td>18.4</td>\n",
       "      <td>84.3</td>\n",
       "    </tr>\n",
       "    <tr>\n",
       "      <th>4</th>\n",
       "      <td>17.1</td>\n",
       "      <td>80.6</td>\n",
       "    </tr>\n",
       "  </tbody>\n",
       "</table>\n",
       "</div>"
      ],
      "text/plain": [
       "   Chirps/Second  Ground Temperature\n",
       "0           20.0                88.6\n",
       "1           16.0                71.6\n",
       "2           19.8                93.3\n",
       "3           18.4                84.3\n",
       "4           17.1                80.6"
      ]
     },
     "execution_count": 4,
     "metadata": {},
     "output_type": "execute_result"
    }
   ],
   "source": [
    "df.head()"
   ]
  },
  {
   "cell_type": "code",
   "execution_count": 5,
   "metadata": {
    "colab": {
     "base_uri": "https://localhost:8080/",
     "height": 34
    },
    "id": "cF9eK7yiP6sy",
    "outputId": "3e8f1e66-4e9d-4db4-e313-015d5463b62c"
   },
   "outputs": [
    {
     "data": {
      "image/png": "[encoded data removed]",
      "text/plain": [
       "<Figure size 432x288 with 1 Axes>"
      ]
     },
     "metadata": {
      "needs_background": "light"
     },
     "output_type": "display_data"
    }
   ],
   "source": [
    "plt.scatter('Chirps/Second','Ground Temperature',data =df)\n",
    "plt.xlabel('Frequency')\n",
    "plt.ylabel('Temperature')\n",
    "plt.title('Frequency w.r.t Temperature')\n",
    "plt.grid()"
   ]
  },
  {
   "cell_type": "code",
   "execution_count": 6,
   "metadata": {
    "id": "cK-ELMLdP6lC"
   },
   "outputs": [],
   "source": [
    "import seaborn as sns\n"
   ]
  },
  {
   "cell_type": "code",
   "execution_count": 7,
   "metadata": {
    "colab": {
     "base_uri": "https://localhost:8080/",
     "height": 89
    },
    "id": "ToBRMC4eSD7p",
    "outputId": "713ac7a6-a7ac-438c-80dc-dda6cb627ef1"
   },
   "outputs": [
    {
     "name": "stderr",
     "output_type": "stream",
     "text": [
      "C:\\Users\\Lenovo\\AppData\\Local\\Programs\\Python\\Python310\\lib\\site-packages\\seaborn\\_decorators.py:36: FutureWarning: Pass the following variables as keyword args: x, y. From version 0.12, the only valid positional argument will be `data`, and passing other arguments without an explicit keyword will result in an error or misinterpretation.\n",
      "  warnings.warn(\n"
     ]
    },
    {
     "data": {
      "text/plain": [
       "<AxesSubplot:xlabel='Chirps/Second', ylabel='Ground Temperature'>"
      ]
     },
     "execution_count": 7,
     "metadata": {},
     "output_type": "execute_result"
    },
    {
     "data": {
      "image/png": "[encoded data removed]",
      "text/plain": [
       "<Figure size 432x288 with 1 Axes>"
      ]
     },
     "metadata": {
      "needs_background": "light"
     },
     "output_type": "display_data"
    }
   ],
   "source": [
    "sns.regplot('Chirps/Second','Ground Temperature',data =df)"
   ]
  },
  {
   "cell_type": "code",
   "execution_count": 8,
   "metadata": {
    "colab": {
     "base_uri": "https://localhost:8080/",
     "height": 34
    },
    "id": "Kw4IcO1_P6bj",
    "outputId": "89cfc5de-a494-4461-8e83-05b6fc6529d3"
   },
   "outputs": [
    {
     "data": {
      "text/plain": [
       "<AxesSubplot:>"
      ]
     },
     "execution_count": 8,
     "metadata": {},
     "output_type": "execute_result"
    },
    {
     "data": {
      "image/png": "[encoded data removed]",
      "text/plain": [
       "<Figure size 432x288 with 2 Axes>"
      ]
     },
     "metadata": {
      "needs_background": "light"
     },
     "output_type": "display_data"
    }
   ],
   "source": [
    "sns.heatmap(df.corr(),annot=True)"
   ]
  },
  {
   "cell_type": "markdown",
   "metadata": {
    "id": "JibJj7gOQ_V7"
   },
   "source": [
    "## The above figures states that the features of the dataset are highly corelated and are increase linearly "
   ]
  },
  {
   "cell_type": "code",
   "execution_count": 17,
   "metadata": {
    "id": "rMtZOT4DRVjh"
   },
   "outputs": [],
   "source": [
    "from sklearn.linear_model import LinearRegression\n",
    "from sklearn.model_selection import train_test_split"
   ]
  },
  {
   "cell_type": "code",
   "execution_count": 18,
   "metadata": {
    "id": "o1s-rMZER5Li"
   },
   "outputs": [],
   "source": [
    "x_train,x_test,y_train,y_test = train_test_split(df['Chirps/Second'],df['Ground Temperature'],test_size = 0.33)"
   ]
  },
  {
   "cell_type": "code",
   "execution_count": 19,
   "metadata": {
    "id": "LKQcct3PdUbK"
   },
   "outputs": [],
   "source": [
    "model = LinearRegression()\n",
    "model.fit(x_train.values.reshape(-1,1),y_train.values.reshape(-1,1))\n",
    "pred = model.predict(x_test.values.reshape(-1,1))"
   ]
  },
  {
   "cell_type": "markdown",
   "metadata": {
    "colab": {
     "base_uri": "https://localhost:8080/",
     "height": 34
    },
    "id": "T02SzTwURhcE",
    "outputId": "fed6becf-679c-4bdf-8af4-a297457deee1"
   },
   "source": [
    "### Task 3"
   ]
  },
  {
   "cell_type": "code",
   "execution_count": 20,
   "metadata": {
    "id": "Vpgi52qyTm5T"
   },
   "outputs": [
    {
     "data": {
      "text/plain": [
       "0.7002033137011565"
      ]
     },
     "execution_count": 20,
     "metadata": {},
     "output_type": "execute_result"
    }
   ],
   "source": [
    "from sklearn.metrics import r2_score,mean_squared_error\n",
    "r2_score(y_true = y_test,y_pred = pred)"
   ]
  },
  {
   "cell_type": "code",
   "execution_count": 21,
   "metadata": {
    "id": "53G1azrEbz4F"
   },
   "outputs": [
    {
     "data": {
      "image/png": "[encoded data removed]",
      "text/plain": [
       "<Figure size 432x288 with 1 Axes>"
      ]
     },
     "metadata": {
      "needs_background": "light"
     },
     "output_type": "display_data"
    }
   ],
   "source": [
    "plt.scatter(x_test,y_test)\n",
    "plt.plot(x_test,pred,color='red')\n",
    "plt.show()"
   ]
  },
  {
   "cell_type": "markdown",
   "metadata": {
    "id": "D54JqG0FVZAs"
   },
   "source": [
    "### Task 4"
   ]
  },
  {
   "cell_type": "code",
   "execution_count": 23,
   "metadata": {
    "colab": {
     "base_uri": "https://localhost:8080/",
     "height": 34
    },
    "id": "RqjTLxpQVfLq",
    "outputId": "66c8fe88-51e6-48bb-bcc0-b2c4d80dbae8"
   },
   "outputs": [
    {
     "data": {
      "text/plain": [
       "array([[20.04487969]])"
      ]
     },
     "execution_count": 23,
     "metadata": {},
     "output_type": "execute_result"
    }
   ],
   "source": [
    "newmodel = LinearRegression()\n",
    "newmodel.fit(y_train.values.reshape(-1,1),x_train.values.reshape(-1,1))\n",
    "newmodel.predict([[95]])\n"
   ]
  },
  {
   "cell_type": "markdown",
   "metadata": {
    "colab": {
     "base_uri": "https://localhost:8080/",
     "height": 34
    },
    "id": "cEDZuRkYTwpS",
    "outputId": "4da74a44-5ef0-4a68-a995-6890329678f0"
   },
   "source": [
    "### The chirps would be chirping at the rate of 19.70 chirps/min"
   ]
  },
  {
   "cell_type": "markdown",
   "metadata": {},
   "source": [
    "### Task 5"
   ]
  },
  {
   "cell_type": "code",
   "execution_count": 25,
   "metadata": {},
   "outputs": [
    {
     "data": {
      "text/plain": [
       "array([[83.24443398]])"
      ]
     },
     "execution_count": 25,
     "metadata": {},
     "output_type": "execute_result"
    }
   ],
   "source": [
    "model.predict([[18]])"
   ]
  },
  {
   "cell_type": "markdown",
   "metadata": {},
   "source": [
    "### The temperature of the ground will be 83.59F"
   ]
  },
  {
   "cell_type": "markdown",
   "metadata": {
    "id": "zgExXgI0PS9S"
   },
   "source": [
    "# Assignment6"
   ]
  },
  {
   "cell_type": "markdown",
   "metadata": {
    "id": "hxe1KHU6PS9T"
   },
   "source": [
    "## Brain vs. Body Weight\n",
    "\n",
    "In the file `brain_body.txt`, the average brain and body weight for a number of mammal species are recorded. Load this data into a Pandas data frame.\n",
    "\n",
    "### Tasks\n",
    "\n",
    "1. Find the linear regression equation for this data for brain weight to body weight.\n",
    "2. Chart the original data and the equation on the chart.\n",
    "3. Find the equation's $R^2$ score (use the `.score` method) to determine whether the\n",
    "equation is a good fit for this data. (0.8 and greater is considered a strong correlation.)"
   ]
  },
  {
   "cell_type": "code",
   "execution_count": 91,
   "metadata": {
    "id": "4Ql0nnSMsxuI"
   },
   "outputs": [],
   "source": [
    "import pandas as pd"
   ]
  },
  {
   "cell_type": "code",
   "execution_count": 92,
   "metadata": {
    "id": "ovqn17ROPS9V"
   },
   "outputs": [],
   "source": [
    "dft = pd.read_fwf(\"C:\\\\Users\\\\Lenovo\\\\Downloads\\\\brain_body.txt\")"
   ]
  },
  {
   "cell_type": "code",
   "execution_count": 93,
   "metadata": {
    "colab": {
     "base_uri": "https://localhost:8080/",
     "height": 424
    },
    "id": "hLwTN_ufs1mt",
    "outputId": "243ef179-8f98-49f2-dc2a-896369a1681e"
   },
   "outputs": [
    {
     "data": {
      "text/html": [
       "<div>\n",
       "<style scoped>\n",
       "    .dataframe tbody tr th:only-of-type {\n",
       "        vertical-align: middle;\n",
       "    }\n",
       "\n",
       "    .dataframe tbody tr th {\n",
       "        vertical-align: top;\n",
       "    }\n",
       "\n",
       "    .dataframe thead th {\n",
       "        text-align: right;\n",
       "    }\n",
       "</style>\n",
       "<table border=\"1\" class=\"dataframe\">\n",
       "  <thead>\n",
       "    <tr style=\"text-align: right;\">\n",
       "      <th></th>\n",
       "      <th>Brain</th>\n",
       "      <th>Body</th>\n",
       "    </tr>\n",
       "  </thead>\n",
       "  <tbody>\n",
       "    <tr>\n",
       "      <th>0</th>\n",
       "      <td>3.385</td>\n",
       "      <td>44.5</td>\n",
       "    </tr>\n",
       "    <tr>\n",
       "      <th>1</th>\n",
       "      <td>0.480</td>\n",
       "      <td>15.5</td>\n",
       "    </tr>\n",
       "    <tr>\n",
       "      <th>2</th>\n",
       "      <td>1.350</td>\n",
       "      <td>8.1</td>\n",
       "    </tr>\n",
       "    <tr>\n",
       "      <th>3</th>\n",
       "      <td>465.000</td>\n",
       "      <td>423.0</td>\n",
       "    </tr>\n",
       "    <tr>\n",
       "      <th>4</th>\n",
       "      <td>36.330</td>\n",
       "      <td>119.5</td>\n",
       "    </tr>\n",
       "    <tr>\n",
       "      <th>...</th>\n",
       "      <td>...</td>\n",
       "      <td>...</td>\n",
       "    </tr>\n",
       "    <tr>\n",
       "      <th>57</th>\n",
       "      <td>160.000</td>\n",
       "      <td>169.0</td>\n",
       "    </tr>\n",
       "    <tr>\n",
       "      <th>58</th>\n",
       "      <td>0.900</td>\n",
       "      <td>2.6</td>\n",
       "    </tr>\n",
       "    <tr>\n",
       "      <th>59</th>\n",
       "      <td>1.620</td>\n",
       "      <td>11.4</td>\n",
       "    </tr>\n",
       "    <tr>\n",
       "      <th>60</th>\n",
       "      <td>0.104</td>\n",
       "      <td>2.5</td>\n",
       "    </tr>\n",
       "    <tr>\n",
       "      <th>61</th>\n",
       "      <td>4.235</td>\n",
       "      <td>50.4</td>\n",
       "    </tr>\n",
       "  </tbody>\n",
       "</table>\n",
       "<p>62 rows × 2 columns</p>\n",
       "</div>"
      ],
      "text/plain": [
       "      Brain   Body\n",
       "0     3.385   44.5\n",
       "1     0.480   15.5\n",
       "2     1.350    8.1\n",
       "3   465.000  423.0\n",
       "4    36.330  119.5\n",
       "..      ...    ...\n",
       "57  160.000  169.0\n",
       "58    0.900    2.6\n",
       "59    1.620   11.4\n",
       "60    0.104    2.5\n",
       "61    4.235   50.4\n",
       "\n",
       "[62 rows x 2 columns]"
      ]
     },
     "execution_count": 93,
     "metadata": {},
     "output_type": "execute_result"
    }
   ],
   "source": [
    "dft"
   ]
  },
  {
   "cell_type": "code",
   "execution_count": 94,
   "metadata": {
    "colab": {
     "base_uri": "https://localhost:8080/",
     "height": 69
    },
    "id": "vJrN2WUytx2Q",
    "outputId": "3df02c51-a2d5-4e3a-92b1-3f6f22bbc792"
   },
   "outputs": [
    {
     "data": {
      "text/plain": [
       "Brain    0\n",
       "Body     0\n",
       "dtype: int64"
      ]
     },
     "execution_count": 94,
     "metadata": {},
     "output_type": "execute_result"
    }
   ],
   "source": [
    "dft.isnull().sum()"
   ]
  },
  {
   "cell_type": "code",
   "execution_count": 95,
   "metadata": {},
   "outputs": [
    {
     "data": {
      "text/html": [
       "<div>\n",
       "<style scoped>\n",
       "    .dataframe tbody tr th:only-of-type {\n",
       "        vertical-align: middle;\n",
       "    }\n",
       "\n",
       "    .dataframe tbody tr th {\n",
       "        vertical-align: top;\n",
       "    }\n",
       "\n",
       "    .dataframe thead th {\n",
       "        text-align: right;\n",
       "    }\n",
       "</style>\n",
       "<table border=\"1\" class=\"dataframe\">\n",
       "  <thead>\n",
       "    <tr style=\"text-align: right;\">\n",
       "      <th></th>\n",
       "      <th>Brain</th>\n",
       "      <th>Body</th>\n",
       "    </tr>\n",
       "  </thead>\n",
       "  <tbody>\n",
       "    <tr>\n",
       "      <th>count</th>\n",
       "      <td>62.000000</td>\n",
       "      <td>62.000000</td>\n",
       "    </tr>\n",
       "    <tr>\n",
       "      <th>mean</th>\n",
       "      <td>198.789984</td>\n",
       "      <td>283.134194</td>\n",
       "    </tr>\n",
       "    <tr>\n",
       "      <th>std</th>\n",
       "      <td>899.158011</td>\n",
       "      <td>930.278942</td>\n",
       "    </tr>\n",
       "    <tr>\n",
       "      <th>min</th>\n",
       "      <td>0.005000</td>\n",
       "      <td>0.140000</td>\n",
       "    </tr>\n",
       "    <tr>\n",
       "      <th>25%</th>\n",
       "      <td>0.600000</td>\n",
       "      <td>4.250000</td>\n",
       "    </tr>\n",
       "    <tr>\n",
       "      <th>50%</th>\n",
       "      <td>3.342500</td>\n",
       "      <td>17.250000</td>\n",
       "    </tr>\n",
       "    <tr>\n",
       "      <th>75%</th>\n",
       "      <td>48.202500</td>\n",
       "      <td>166.000000</td>\n",
       "    </tr>\n",
       "    <tr>\n",
       "      <th>max</th>\n",
       "      <td>6654.000000</td>\n",
       "      <td>5712.000000</td>\n",
       "    </tr>\n",
       "  </tbody>\n",
       "</table>\n",
       "</div>"
      ],
      "text/plain": [
       "             Brain         Body\n",
       "count    62.000000    62.000000\n",
       "mean    198.789984   283.134194\n",
       "std     899.158011   930.278942\n",
       "min       0.005000     0.140000\n",
       "25%       0.600000     4.250000\n",
       "50%       3.342500    17.250000\n",
       "75%      48.202500   166.000000\n",
       "max    6654.000000  5712.000000"
      ]
     },
     "execution_count": 95,
     "metadata": {},
     "output_type": "execute_result"
    }
   ],
   "source": [
    "dft.describe()"
   ]
  },
  {
   "cell_type": "code",
   "execution_count": 96,
   "metadata": {},
   "outputs": [
    {
     "data": {
      "application/javascript": [
       "/* Put everything inside the global mpl namespace */\n",
       "/* global mpl */\n",
       "window.mpl = {};\n",
       "\n",
       "mpl.get_websocket_type = function () {\n",
       "    if (typeof WebSocket !== 'undefined') {\n",
       "        return WebSocket;\n",
       "    } else if (typeof MozWebSocket !== 'undefined') {\n",
       "        return MozWebSocket;\n",
       "    } else {\n",
       "        alert(\n",
       "            'Your browser does not have WebSocket support. ' +\n",
       "                'Please try Chrome, Safari or Firefox ≥ 6. ' +\n",
       "                'Firefox 4 and 5 are also supported but you ' +\n",
       "                'have to enable WebSockets in about:config.'\n",
       "        );\n",
       "    }\n",
       "};\n",
       "\n",
       "mpl.figure = function (figure_id, websocket, ondownload, parent_element) {\n",
       "    this.id = figure_id;\n",
       "\n",
       "    this.ws = websocket;\n",
       "\n",
       "    this.supports_binary = this.ws.binaryType !== undefined;\n",
       "\n",
       "    if (!this.supports_binary) {\n",
       "        var warnings = document.getElementById('mpl-warnings');\n",
       "        if (warnings) {\n",
       "            warnings.style.display = 'block';\n",
       "            warnings.textContent =\n",
       "                'This browser does not support binary websocket messages. ' +\n",
       "                'Performance may be slow.';\n",
       "        }\n",
       "    }\n",
       "\n",
       "    this.imageObj = new Image();\n",
       "\n",
       "    this.context = undefined;\n",
       "    this.message = undefined;\n",
       "    this.canvas = undefined;\n",
       "    this.rubberband_canvas = undefined;\n",
       "    this.rubberband_context = undefined;\n",
       "    this.format_dropdown = undefined;\n",
       "\n",
       "    this.image_mode = 'full';\n",
       "\n",
       "    this.root = document.createElement('div');\n",
       "    this.root.setAttribute('style', 'display: inline-block');\n",
       "    this._root_extra_style(this.root);\n",
       "\n",
       "    parent_element.appendChild(this.root);\n",
       "\n",
       "    this._init_header(this);\n",
       "    this._init_canvas(this);\n",
       "    this._init_toolbar(this);\n",
       "\n",
       "    var fig = this;\n",
       "\n",
       "    this.waiting = false;\n",
       "\n",
       "    this.ws.onopen = function () {\n",
       "        fig.send_message('supports_binary', { value: fig.supports_binary });\n",
       "        fig.send_message('send_image_mode', {});\n",
       "        if (fig.ratio !== 1) {\n",
       "            fig.send_message('set_device_pixel_ratio', {\n",
       "                device_pixel_ratio: fig.ratio,\n",
       "            });\n",
       "        }\n",
       "        fig.send_message('refresh', {});\n",
       "    };\n",
       "\n",
       "    this.imageObj.onload = function () {\n",
       "        if (fig.image_mode === 'full') {\n",
       "            // Full images could contain transparency (where diff images\n",
       "            // almost always do), so we need to clear the canvas so that\n",
       "            // there is no ghosting.\n",
       "            fig.context.clearRect(0, 0, fig.canvas.width, fig.canvas.height);\n",
       "        }\n",
       "        fig.context.drawImage(fig.imageObj, 0, 0);\n",
       "    };\n",
       "\n",
       "    this.imageObj.onunload = function () {\n",
       "        fig.ws.close();\n",
       "    };\n",
       "\n",
       "    this.ws.onmessage = this._make_on_message_function(this);\n",
       "\n",
       "    this.ondownload = ondownload;\n",
       "};\n",
       "\n",
       "mpl.figure.prototype._init_header = function () {\n",
       "    var titlebar = document.createElement('div');\n",
       "    titlebar.classList =\n",
       "        'ui-dialog-titlebar ui-widget-header ui-corner-all ui-helper-clearfix';\n",
       "    var titletext = document.createElement('div');\n",
       "    titletext.classList = 'ui-dialog-title';\n",
       "    titletext.setAttribute(\n",
       "        'style',\n",
       "        'width: 100%; text-align: center; padding: 3px;'\n",
       "    );\n",
       "    titlebar.appendChild(titletext);\n",
       "    this.root.appendChild(titlebar);\n",
       "    this.header = titletext;\n",
       "};\n",
       "\n",
       "mpl.figure.prototype._canvas_extra_style = function (_canvas_div) {};\n",
       "\n",
       "mpl.figure.prototype._root_extra_style = function (_canvas_div) {};\n",
       "\n",
       "mpl.figure.prototype._init_canvas = function () {\n",
       "    var fig = this;\n",
       "\n",
       "    var canvas_div = (this.canvas_div = document.createElement('div'));\n",
       "    canvas_div.setAttribute(\n",
       "        'style',\n",
       "        'border: 1px solid #ddd;' +\n",
       "            'box-sizing: content-box;' +\n",
       "            'clear: both;' +\n",
       "            'min-height: 1px;' +\n",
       "            'min-width: 1px;' +\n",
       "            'outline: 0;' +\n",
       "            'overflow: hidden;' +\n",
       "            'position: relative;' +\n",
       "            'resize: both;'\n",
       "    );\n",
       "\n",
       "    function on_keyboard_event_closure(name) {\n",
       "        return function (event) {\n",
       "            return fig.key_event(event, name);\n",
       "        };\n",
       "    }\n",
       "\n",
       "    canvas_div.addEventListener(\n",
       "        'keydown',\n",
       "        on_keyboard_event_closure('key_press')\n",
       "    );\n",
       "    canvas_div.addEventListener(\n",
       "        'keyup',\n",
       "        on_keyboard_event_closure('key_release')\n",
       "    );\n",
       "\n",
       "    this._canvas_extra_style(canvas_div);\n",
       "    this.root.appendChild(canvas_div);\n",
       "\n",
       "    var canvas = (this.canvas = document.createElement('canvas'));\n",
       "    canvas.classList.add('mpl-canvas');\n",
       "    canvas.setAttribute('style', 'box-sizing: content-box;');\n",
       "\n",
       "    this.context = canvas.getContext('2d');\n",
       "\n",
       "    var backingStore =\n",
       "        this.context.backingStorePixelRatio ||\n",
       "        this.context.webkitBackingStorePixelRatio ||\n",
       "        this.context.mozBackingStorePixelRatio ||\n",
       "        this.context.msBackingStorePixelRatio ||\n",
       "        this.context.oBackingStorePixelRatio ||\n",
       "        this.context.backingStorePixelRatio ||\n",
       "        1;\n",
       "\n",
       "    this.ratio = (window.devicePixelRatio || 1) / backingStore;\n",
       "\n",
       "    var rubberband_canvas = (this.rubberband_canvas = document.createElement(\n",
       "        'canvas'\n",
       "    ));\n",
       "    rubberband_canvas.setAttribute(\n",
       "        'style',\n",
       "        'box-sizing: content-box; position: absolute; left: 0; top: 0; z-index: 1;'\n",
       "    );\n",
       "\n",
       "    // Apply a ponyfill if ResizeObserver is not implemented by browser.\n",
       "    if (this.ResizeObserver === undefined) {\n",
       "        if (window.ResizeObserver !== undefined) {\n",
       "            this.ResizeObserver = window.ResizeObserver;\n",
       "        } else {\n",
       "            var obs = _JSXTOOLS_RESIZE_OBSERVER({});\n",
       "            this.ResizeObserver = obs.ResizeObserver;\n",
       "        }\n",
       "    }\n",
       "\n",
       "    this.resizeObserverInstance = new this.ResizeObserver(function (entries) {\n",
       "        var nentries = entries.length;\n",
       "        for (var i = 0; i < nentries; i++) {\n",
       "            var entry = entries[i];\n",
       "            var width, height;\n",
       "            if (entry.contentBoxSize) {\n",
       "                if (entry.contentBoxSize instanceof Array) {\n",
       "                    // Chrome 84 implements new version of spec.\n",
       "                    width = entry.contentBoxSize[0].inlineSize;\n",
       "                    height = entry.contentBoxSize[0].blockSize;\n",
       "                } else {\n",
       "                    // Firefox implements old version of spec.\n",
       "                    width = entry.contentBoxSize.inlineSize;\n",
       "                    height = entry.contentBoxSize.blockSize;\n",
       "                }\n",
       "            } else {\n",
       "                // Chrome <84 implements even older version of spec.\n",
       "                width = entry.contentRect.width;\n",
       "                height = entry.contentRect.height;\n",
       "            }\n",
       "\n",
       "            // Keep the size of the canvas and rubber band canvas in sync with\n",
       "            // the canvas container.\n",
       "            if (entry.devicePixelContentBoxSize) {\n",
       "                // Chrome 84 implements new version of spec.\n",
       "                canvas.setAttribute(\n",
       "                    'width',\n",
       "                    entry.devicePixelContentBoxSize[0].inlineSize\n",
       "                );\n",
       "                canvas.setAttribute(\n",
       "                    'height',\n",
       "                    entry.devicePixelContentBoxSize[0].blockSize\n",
       "                );\n",
       "            } else {\n",
       "                canvas.setAttribute('width', width * fig.ratio);\n",
       "                canvas.setAttribute('height', height * fig.ratio);\n",
       "            }\n",
       "            canvas.setAttribute(\n",
       "                'style',\n",
       "                'width: ' + width + 'px; height: ' + height + 'px;'\n",
       "            );\n",
       "\n",
       "            rubberband_canvas.setAttribute('width', width);\n",
       "            rubberband_canvas.setAttribute('height', height);\n",
       "\n",
       "            // And update the size in Python. We ignore the initial 0/0 size\n",
       "            // that occurs as the element is placed into the DOM, which should\n",
       "            // otherwise not happen due to the minimum size styling.\n",
       "            if (fig.ws.readyState == 1 && width != 0 && height != 0) {\n",
       "                fig.request_resize(width, height);\n",
       "            }\n",
       "        }\n",
       "    });\n",
       "    this.resizeObserverInstance.observe(canvas_div);\n",
       "\n",
       "    function on_mouse_event_closure(name) {\n",
       "        return function (event) {\n",
       "            return fig.mouse_event(event, name);\n",
       "        };\n",
       "    }\n",
       "\n",
       "    rubberband_canvas.addEventListener(\n",
       "        'mousedown',\n",
       "        on_mouse_event_closure('button_press')\n",
       "    );\n",
       "    rubberband_canvas.addEventListener(\n",
       "        'mouseup',\n",
       "        on_mouse_event_closure('button_release')\n",
       "    );\n",
       "    rubberband_canvas.addEventListener(\n",
       "        'dblclick',\n",
       "        on_mouse_event_closure('dblclick')\n",
       "    );\n",
       "    // Throttle sequential mouse events to 1 every 20ms.\n",
       "    rubberband_canvas.addEventListener(\n",
       "        'mousemove',\n",
       "        on_mouse_event_closure('motion_notify')\n",
       "    );\n",
       "\n",
       "    rubberband_canvas.addEventListener(\n",
       "        'mouseenter',\n",
       "        on_mouse_event_closure('figure_enter')\n",
       "    );\n",
       "    rubberband_canvas.addEventListener(\n",
       "        'mouseleave',\n",
       "        on_mouse_event_closure('figure_leave')\n",
       "    );\n",
       "\n",
       "    canvas_div.addEventListener('wheel', function (event) {\n",
       "        if (event.deltaY < 0) {\n",
       "            event.step = 1;\n",
       "        } else {\n",
       "            event.step = -1;\n",
       "        }\n",
       "        on_mouse_event_closure('scroll')(event);\n",
       "    });\n",
       "\n",
       "    canvas_div.appendChild(canvas);\n",
       "    canvas_div.appendChild(rubberband_canvas);\n",
       "\n",
       "    this.rubberband_context = rubberband_canvas.getContext('2d');\n",
       "    this.rubberband_context.strokeStyle = '#000000';\n",
       "\n",
       "    this._resize_canvas = function (width, height, forward) {\n",
       "        if (forward) {\n",
       "            canvas_div.style.width = width + 'px';\n",
       "            canvas_div.style.height = height + 'px';\n",
       "        }\n",
       "    };\n",
       "\n",
       "    // Disable right mouse context menu.\n",
       "    this.rubberband_canvas.addEventListener('contextmenu', function (_e) {\n",
       "        event.preventDefault();\n",
       "        return false;\n",
       "    });\n",
       "\n",
       "    function set_focus() {\n",
       "        canvas.focus();\n",
       "        canvas_div.focus();\n",
       "    }\n",
       "\n",
       "    window.setTimeout(set_focus, 100);\n",
       "};\n",
       "\n",
       "mpl.figure.prototype._init_toolbar = function () {\n",
       "    var fig = this;\n",
       "\n",
       "    var toolbar = document.createElement('div');\n",
       "    toolbar.classList = 'mpl-toolbar';\n",
       "    this.root.appendChild(toolbar);\n",
       "\n",
       "    function on_click_closure(name) {\n",
       "        return function (_event) {\n",
       "            return fig.toolbar_button_onclick(name);\n",
       "        };\n",
       "    }\n",
       "\n",
       "    function on_mouseover_closure(tooltip) {\n",
       "        return function (event) {\n",
       "            if (!event.currentTarget.disabled) {\n",
       "                return fig.toolbar_button_onmouseover(tooltip);\n",
       "            }\n",
       "        };\n",
       "    }\n",
       "\n",
       "    fig.buttons = {};\n",
       "    var buttonGroup = document.createElement('div');\n",
       "    buttonGroup.classList = 'mpl-button-group';\n",
       "    for (var toolbar_ind in mpl.toolbar_items) {\n",
       "        var name = mpl.toolbar_items[toolbar_ind][0];\n",
       "        var tooltip = mpl.toolbar_items[toolbar_ind][1];\n",
       "        var image = mpl.toolbar_items[toolbar_ind][2];\n",
       "        var method_name = mpl.toolbar_items[toolbar_ind][3];\n",
       "\n",
       "        if (!name) {\n",
       "            /* Instead of a spacer, we start a new button group. */\n",
       "            if (buttonGroup.hasChildNodes()) {\n",
       "                toolbar.appendChild(buttonGroup);\n",
       "            }\n",
       "            buttonGroup = document.createElement('div');\n",
       "            buttonGroup.classList = 'mpl-button-group';\n",
       "            continue;\n",
       "        }\n",
       "\n",
       "        var button = (fig.buttons[name] = document.createElement('button'));\n",
       "        button.classList = 'mpl-widget';\n",
       "        button.setAttribute('role', 'button');\n",
       "        button.setAttribute('aria-disabled', 'false');\n",
       "        button.addEventListener('click', on_click_closure(method_name));\n",
       "        button.addEventListener('mouseover', on_mouseover_closure(tooltip));\n",
       "\n",
       "        var icon_img = document.createElement('img');\n",
       "        icon_img.src = '_images/' + image + '.png';\n",
       "        icon_img.srcset = '_images/' + image + '_large.png 2x';\n",
       "        icon_img.alt = tooltip;\n",
       "        button.appendChild(icon_img);\n",
       "\n",
       "        buttonGroup.appendChild(button);\n",
       "    }\n",
       "\n",
       "    if (buttonGroup.hasChildNodes()) {\n",
       "        toolbar.appendChild(buttonGroup);\n",
       "    }\n",
       "\n",
       "    var fmt_picker = document.createElement('select');\n",
       "    fmt_picker.classList = 'mpl-widget';\n",
       "    toolbar.appendChild(fmt_picker);\n",
       "    this.format_dropdown = fmt_picker;\n",
       "\n",
       "    for (var ind in mpl.extensions) {\n",
       "        var fmt = mpl.extensions[ind];\n",
       "        var option = document.createElement('option');\n",
       "        option.selected = fmt === mpl.default_extension;\n",
       "        option.innerHTML = fmt;\n",
       "        fmt_picker.appendChild(option);\n",
       "    }\n",
       "\n",
       "    var status_bar = document.createElement('span');\n",
       "    status_bar.classList = 'mpl-message';\n",
       "    toolbar.appendChild(status_bar);\n",
       "    this.message = status_bar;\n",
       "};\n",
       "\n",
       "mpl.figure.prototype.request_resize = function (x_pixels, y_pixels) {\n",
       "    // Request matplotlib to resize the figure. Matplotlib will then trigger a resize in the client,\n",
       "    // which will in turn request a refresh of the image.\n",
       "    this.send_message('resize', { width: x_pixels, height: y_pixels });\n",
       "};\n",
       "\n",
       "mpl.figure.prototype.send_message = function (type, properties) {\n",
       "    properties['type'] = type;\n",
       "    properties['figure_id'] = this.id;\n",
       "    this.ws.send(JSON.stringify(properties));\n",
       "};\n",
       "\n",
       "mpl.figure.prototype.send_draw_message = function () {\n",
       "    if (!this.waiting) {\n",
       "        this.waiting = true;\n",
       "        this.ws.send(JSON.stringify({ type: 'draw', figure_id: this.id }));\n",
       "    }\n",
       "};\n",
       "\n",
       "mpl.figure.prototype.handle_save = function (fig, _msg) {\n",
       "    var format_dropdown = fig.format_dropdown;\n",
       "    var format = format_dropdown.options[format_dropdown.selectedIndex].value;\n",
       "    fig.ondownload(fig, format);\n",
       "};\n",
       "\n",
       "mpl.figure.prototype.handle_resize = function (fig, msg) {\n",
       "    var size = msg['size'];\n",
       "    if (size[0] !== fig.canvas.width || size[1] !== fig.canvas.height) {\n",
       "        fig._resize_canvas(size[0], size[1], msg['forward']);\n",
       "        fig.send_message('refresh', {});\n",
       "    }\n",
       "};\n",
       "\n",
       "mpl.figure.prototype.handle_rubberband = function (fig, msg) {\n",
       "    var x0 = msg['x0'] / fig.ratio;\n",
       "    var y0 = (fig.canvas.height - msg['y0']) / fig.ratio;\n",
       "    var x1 = msg['x1'] / fig.ratio;\n",
       "    var y1 = (fig.canvas.height - msg['y1']) / fig.ratio;\n",
       "    x0 = Math.floor(x0) + 0.5;\n",
       "    y0 = Math.floor(y0) + 0.5;\n",
       "    x1 = Math.floor(x1) + 0.5;\n",
       "    y1 = Math.floor(y1) + 0.5;\n",
       "    var min_x = Math.min(x0, x1);\n",
       "    var min_y = Math.min(y0, y1);\n",
       "    var width = Math.abs(x1 - x0);\n",
       "    var height = Math.abs(y1 - y0);\n",
       "\n",
       "    fig.rubberband_context.clearRect(\n",
       "        0,\n",
       "        0,\n",
       "        fig.canvas.width / fig.ratio,\n",
       "        fig.canvas.height / fig.ratio\n",
       "    );\n",
       "\n",
       "    fig.rubberband_context.strokeRect(min_x, min_y, width, height);\n",
       "};\n",
       "\n",
       "mpl.figure.prototype.handle_figure_label = function (fig, msg) {\n",
       "    // Updates the figure title.\n",
       "    fig.header.textContent = msg['label'];\n",
       "};\n",
       "\n",
       "mpl.figure.prototype.handle_cursor = function (fig, msg) {\n",
       "    fig.rubberband_canvas.style.cursor = msg['cursor'];\n",
       "};\n",
       "\n",
       "mpl.figure.prototype.handle_message = function (fig, msg) {\n",
       "    fig.message.textContent = msg['message'];\n",
       "};\n",
       "\n",
       "mpl.figure.prototype.handle_draw = function (fig, _msg) {\n",
       "    // Request the server to send over a new figure.\n",
       "    fig.send_draw_message();\n",
       "};\n",
       "\n",
       "mpl.figure.prototype.handle_image_mode = function (fig, msg) {\n",
       "    fig.image_mode = msg['mode'];\n",
       "};\n",
       "\n",
       "mpl.figure.prototype.handle_history_buttons = function (fig, msg) {\n",
       "    for (var key in msg) {\n",
       "        if (!(key in fig.buttons)) {\n",
       "            continue;\n",
       "        }\n",
       "        fig.buttons[key].disabled = !msg[key];\n",
       "        fig.buttons[key].setAttribute('aria-disabled', !msg[key]);\n",
       "    }\n",
       "};\n",
       "\n",
       "mpl.figure.prototype.handle_navigate_mode = function (fig, msg) {\n",
       "    if (msg['mode'] === 'PAN') {\n",
       "        fig.buttons['Pan'].classList.add('active');\n",
       "        fig.buttons['Zoom'].classList.remove('active');\n",
       "    } else if (msg['mode'] === 'ZOOM') {\n",
       "        fig.buttons['Pan'].classList.remove('active');\n",
       "        fig.buttons['Zoom'].classList.add('active');\n",
       "    } else {\n",
       "        fig.buttons['Pan'].classList.remove('active');\n",
       "        fig.buttons['Zoom'].classList.remove('active');\n",
       "    }\n",
       "};\n",
       "\n",
       "mpl.figure.prototype.updated_canvas_event = function () {\n",
       "    // Called whenever the canvas gets updated.\n",
       "    this.send_message('ack', {});\n",
       "};\n",
       "\n",
       "// A function to construct a web socket function for onmessage handling.\n",
       "// Called in the figure constructor.\n",
       "mpl.figure.prototype._make_on_message_function = function (fig) {\n",
       "    return function socket_on_message(evt) {\n",
       "        if (evt.data instanceof Blob) {\n",
       "            var img = evt.data;\n",
       "            if (img.type !== 'image/png') {\n",
       "                /* FIXME: We get \"Resource interpreted as Image but\n",
       "                 * transferred with MIME type text/plain:\" errors on\n",
       "                 * Chrome.  But how to set the MIME type?  It doesn't seem\n",
       "                 * to be part of the websocket stream */\n",
       "                img.type = 'image/png';\n",
       "            }\n",
       "\n",
       "            /* Free the memory for the previous frames */\n",
       "            if (fig.imageObj.src) {\n",
       "                (window.URL || window.webkitURL).revokeObjectURL(\n",
       "                    fig.imageObj.src\n",
       "                );\n",
       "            }\n",
       "\n",
       "            fig.imageObj.src = (window.URL || window.webkitURL).createObjectURL(\n",
       "                img\n",
       "            );\n",
       "            fig.updated_canvas_event();\n",
       "            fig.waiting = false;\n",
       "            return;\n",
       "        } else if (\n",
       "            typeof evt.data === 'string' &&\n",
       "            evt.data.slice(0, 21) === 'data:image/png;base64'\n",
       "        ) {\n",
       "            fig.imageObj.src = evt.data;\n",
       "            fig.updated_canvas_event();\n",
       "            fig.waiting = false;\n",
       "            return;\n",
       "        }\n",
       "\n",
       "        var msg = JSON.parse(evt.data);\n",
       "        var msg_type = msg['type'];\n",
       "\n",
       "        // Call the  \"handle_{type}\" callback, which takes\n",
       "        // the figure and JSON message as its only arguments.\n",
       "        try {\n",
       "            var callback = fig['handle_' + msg_type];\n",
       "        } catch (e) {\n",
       "            console.log(\n",
       "                \"No handler for the '\" + msg_type + \"' message type: \",\n",
       "                msg\n",
       "            );\n",
       "            return;\n",
       "        }\n",
       "\n",
       "        if (callback) {\n",
       "            try {\n",
       "                // console.log(\"Handling '\" + msg_type + \"' message: \", msg);\n",
       "                callback(fig, msg);\n",
       "            } catch (e) {\n",
       "                console.log(\n",
       "                    \"Exception inside the 'handler_\" + msg_type + \"' callback:\",\n",
       "                    e,\n",
       "                    e.stack,\n",
       "                    msg\n",
       "                );\n",
       "            }\n",
       "        }\n",
       "    };\n",
       "};\n",
       "\n",
       "// from https://stackoverflow.com/questions/1114465/getting-mouse-location-in-canvas\n",
       "mpl.findpos = function (e) {\n",
       "    //this section is from http://www.quirksmode.org/js/events_properties.html\n",
       "    var targ;\n",
       "    if (!e) {\n",
       "        e = window.event;\n",
       "    }\n",
       "    if (e.target) {\n",
       "        targ = e.target;\n",
       "    } else if (e.srcElement) {\n",
       "        targ = e.srcElement;\n",
       "    }\n",
       "    if (targ.nodeType === 3) {\n",
       "        // defeat Safari bug\n",
       "        targ = targ.parentNode;\n",
       "    }\n",
       "\n",
       "    // pageX,Y are the mouse positions relative to the document\n",
       "    var boundingRect = targ.getBoundingClientRect();\n",
       "    var x = e.pageX - (boundingRect.left + document.body.scrollLeft);\n",
       "    var y = e.pageY - (boundingRect.top + document.body.scrollTop);\n",
       "\n",
       "    return { x: x, y: y };\n",
       "};\n",
       "\n",
       "/*\n",
       " * return a copy of an object with only non-object keys\n",
       " * we need this to avoid circular references\n",
       " * https://stackoverflow.com/a/24161582/3208463\n",
       " */\n",
       "function simpleKeys(original) {\n",
       "    return Object.keys(original).reduce(function (obj, key) {\n",
       "        if (typeof original[key] !== 'object') {\n",
       "            obj[key] = original[key];\n",
       "        }\n",
       "        return obj;\n",
       "    }, {});\n",
       "}\n",
       "\n",
       "mpl.figure.prototype.mouse_event = function (event, name) {\n",
       "    var canvas_pos = mpl.findpos(event);\n",
       "\n",
       "    if (name === 'button_press') {\n",
       "        this.canvas.focus();\n",
       "        this.canvas_div.focus();\n",
       "    }\n",
       "\n",
       "    var x = canvas_pos.x * this.ratio;\n",
       "    var y = canvas_pos.y * this.ratio;\n",
       "\n",
       "    this.send_message(name, {\n",
       "        x: x,\n",
       "        y: y,\n",
       "        button: event.button,\n",
       "        step: event.step,\n",
       "        guiEvent: simpleKeys(event),\n",
       "    });\n",
       "\n",
       "    /* This prevents the web browser from automatically changing to\n",
       "     * the text insertion cursor when the button is pressed.  We want\n",
       "     * to control all of the cursor setting manually through the\n",
       "     * 'cursor' event from matplotlib */\n",
       "    event.preventDefault();\n",
       "    return false;\n",
       "};\n",
       "\n",
       "mpl.figure.prototype._key_event_extra = function (_event, _name) {\n",
       "    // Handle any extra behaviour associated with a key event\n",
       "};\n",
       "\n",
       "mpl.figure.prototype.key_event = function (event, name) {\n",
       "    // Prevent repeat events\n",
       "    if (name === 'key_press') {\n",
       "        if (event.key === this._key) {\n",
       "            return;\n",
       "        } else {\n",
       "            this._key = event.key;\n",
       "        }\n",
       "    }\n",
       "    if (name === 'key_release') {\n",
       "        this._key = null;\n",
       "    }\n",
       "\n",
       "    var value = '';\n",
       "    if (event.ctrlKey && event.key !== 'Control') {\n",
       "        value += 'ctrl+';\n",
       "    }\n",
       "    else if (event.altKey && event.key !== 'Alt') {\n",
       "        value += 'alt+';\n",
       "    }\n",
       "    else if (event.shiftKey && event.key !== 'Shift') {\n",
       "        value += 'shift+';\n",
       "    }\n",
       "\n",
       "    value += 'k' + event.key;\n",
       "\n",
       "    this._key_event_extra(event, name);\n",
       "\n",
       "    this.send_message(name, { key: value, guiEvent: simpleKeys(event) });\n",
       "    return false;\n",
       "};\n",
       "\n",
       "mpl.figure.prototype.toolbar_button_onclick = function (name) {\n",
       "    if (name === 'download') {\n",
       "        this.handle_save(this, null);\n",
       "    } else {\n",
       "        this.send_message('toolbar_button', { name: name });\n",
       "    }\n",
       "};\n",
       "\n",
       "mpl.figure.prototype.toolbar_button_onmouseover = function (tooltip) {\n",
       "    this.message.textContent = tooltip;\n",
       "};\n",
       "\n",
       "///////////////// REMAINING CONTENT GENERATED BY embed_js.py /////////////////\n",
       "// prettier-ignore\n",
       "var _JSXTOOLS_RESIZE_OBSERVER=function(A){var t,i=new WeakMap,n=new WeakMap,a=new WeakMap,r=new WeakMap,o=new Set;function s(e){if(!(this instanceof s))throw new TypeError(\"Constructor requires 'new' operator\");i.set(this,e)}function h(){throw new TypeError(\"Function is not a constructor\")}function c(e,t,i,n){e=0 in arguments?Number(arguments[0]):0,t=1 in arguments?Number(arguments[1]):0,i=2 in arguments?Number(arguments[2]):0,n=3 in arguments?Number(arguments[3]):0,this.right=(this.x=this.left=e)+(this.width=i),this.bottom=(this.y=this.top=t)+(this.height=n),Object.freeze(this)}function d(){t=requestAnimationFrame(d);var s=new WeakMap,p=new Set;o.forEach((function(t){r.get(t).forEach((function(i){var r=t instanceof window.SVGElement,o=a.get(t),d=r?0:parseFloat(o.paddingTop),f=r?0:parseFloat(o.paddingRight),l=r?0:parseFloat(o.paddingBottom),u=r?0:parseFloat(o.paddingLeft),g=r?0:parseFloat(o.borderTopWidth),m=r?0:parseFloat(o.borderRightWidth),w=r?0:parseFloat(o.borderBottomWidth),b=u+f,F=d+l,v=(r?0:parseFloat(o.borderLeftWidth))+m,W=g+w,y=r?0:t.offsetHeight-W-t.clientHeight,E=r?0:t.offsetWidth-v-t.clientWidth,R=b+v,z=F+W,M=r?t.width:parseFloat(o.width)-R-E,O=r?t.height:parseFloat(o.height)-z-y;if(n.has(t)){var k=n.get(t);if(k[0]===M&&k[1]===O)return}n.set(t,[M,O]);var S=Object.create(h.prototype);S.target=t,S.contentRect=new c(u,d,M,O),s.has(i)||(s.set(i,[]),p.add(i)),s.get(i).push(S)}))})),p.forEach((function(e){i.get(e).call(e,s.get(e),e)}))}return s.prototype.observe=function(i){if(i instanceof window.Element){r.has(i)||(r.set(i,new Set),o.add(i),a.set(i,window.getComputedStyle(i)));var n=r.get(i);n.has(this)||n.add(this),cancelAnimationFrame(t),t=requestAnimationFrame(d)}},s.prototype.unobserve=function(i){if(i instanceof window.Element&&r.has(i)){var n=r.get(i);n.has(this)&&(n.delete(this),n.size||(r.delete(i),o.delete(i))),n.size||r.delete(i),o.size||cancelAnimationFrame(t)}},A.DOMRectReadOnly=c,A.ResizeObserver=s,A.ResizeObserverEntry=h,A}; // eslint-disable-line\n",
       "mpl.toolbar_items = [[\"Home\", \"Reset original view\", \"fa fa-home icon-home\", \"home\"], [\"Back\", \"Back to previous view\", \"fa fa-arrow-left icon-arrow-left\", \"back\"], [\"Forward\", \"Forward to next view\", \"fa fa-arrow-right icon-arrow-right\", \"forward\"], [\"\", \"\", \"\", \"\"], [\"Pan\", \"Left button pans, Right button zooms\\nx/y fixes axis, CTRL fixes aspect\", \"fa fa-arrows icon-move\", \"pan\"], [\"Zoom\", \"Zoom to rectangle\\nx/y fixes axis\", \"fa fa-square-o icon-check-empty\", \"zoom\"], [\"\", \"\", \"\", \"\"], [\"Download\", \"Download plot\", \"fa fa-floppy-o icon-save\", \"download\"]];\n",
       "\n",
       "mpl.extensions = [\"eps\", \"jpeg\", \"pgf\", \"pdf\", \"png\", \"ps\", \"raw\", \"svg\", \"tif\"];\n",
       "\n",
       "mpl.default_extension = \"png\";/* global mpl */\n",
       "\n",
       "var comm_websocket_adapter = function (comm) {\n",
       "    // Create a \"websocket\"-like object which calls the given IPython comm\n",
       "    // object with the appropriate methods. Currently this is a non binary\n",
       "    // socket, so there is still some room for performance tuning.\n",
       "    var ws = {};\n",
       "\n",
       "    ws.binaryType = comm.kernel.ws.binaryType;\n",
       "    ws.readyState = comm.kernel.ws.readyState;\n",
       "    function updateReadyState(_event) {\n",
       "        if (comm.kernel.ws) {\n",
       "            ws.readyState = comm.kernel.ws.readyState;\n",
       "        } else {\n",
       "            ws.readyState = 3; // Closed state.\n",
       "        }\n",
       "    }\n",
       "    comm.kernel.ws.addEventListener('open', updateReadyState);\n",
       "    comm.kernel.ws.addEventListener('close', updateReadyState);\n",
       "    comm.kernel.ws.addEventListener('error', updateReadyState);\n",
       "\n",
       "    ws.close = function () {\n",
       "        comm.close();\n",
       "    };\n",
       "    ws.send = function (m) {\n",
       "        //console.log('sending', m);\n",
       "        comm.send(m);\n",
       "    };\n",
       "    // Register the callback with on_msg.\n",
       "    comm.on_msg(function (msg) {\n",
       "        //console.log('receiving', msg['content']['data'], msg);\n",
       "        var data = msg['content']['data'];\n",
       "        if (data['blob'] !== undefined) {\n",
       "            data = {\n",
       "                data: new Blob(msg['buffers'], { type: data['blob'] }),\n",
       "            };\n",
       "        }\n",
       "        // Pass the mpl event to the overridden (by mpl) onmessage function.\n",
       "        ws.onmessage(data);\n",
       "    });\n",
       "    return ws;\n",
       "};\n",
       "\n",
       "mpl.mpl_figure_comm = function (comm, msg) {\n",
       "    // This is the function which gets called when the mpl process\n",
       "    // starts-up an IPython Comm through the \"matplotlib\" channel.\n",
       "\n",
       "    var id = msg.content.data.id;\n",
       "    // Get hold of the div created by the display call when the Comm\n",
       "    // socket was opened in Python.\n",
       "    var element = document.getElementById(id);\n",
       "    var ws_proxy = comm_websocket_adapter(comm);\n",
       "\n",
       "    function ondownload(figure, _format) {\n",
       "        window.open(figure.canvas.toDataURL());\n",
       "    }\n",
       "\n",
       "    var fig = new mpl.figure(id, ws_proxy, ondownload, element);\n",
       "\n",
       "    // Call onopen now - mpl needs it, as it is assuming we've passed it a real\n",
       "    // web socket which is closed, not our websocket->open comm proxy.\n",
       "    ws_proxy.onopen();\n",
       "\n",
       "    fig.parent_element = element;\n",
       "    fig.cell_info = mpl.find_output_cell(\"<div id='\" + id + \"'></div>\");\n",
       "    if (!fig.cell_info) {\n",
       "        console.error('Failed to find cell for figure', id, fig);\n",
       "        return;\n",
       "    }\n",
       "    fig.cell_info[0].output_area.element.on(\n",
       "        'cleared',\n",
       "        { fig: fig },\n",
       "        fig._remove_fig_handler\n",
       "    );\n",
       "};\n",
       "\n",
       "mpl.figure.prototype.handle_close = function (fig, msg) {\n",
       "    var width = fig.canvas.width / fig.ratio;\n",
       "    fig.cell_info[0].output_area.element.off(\n",
       "        'cleared',\n",
       "        fig._remove_fig_handler\n",
       "    );\n",
       "    fig.resizeObserverInstance.unobserve(fig.canvas_div);\n",
       "\n",
       "    // Update the output cell to use the data from the current canvas.\n",
       "    fig.push_to_output();\n",
       "    var dataURL = fig.canvas.toDataURL();\n",
       "    // Re-enable the keyboard manager in IPython - without this line, in FF,\n",
       "    // the notebook keyboard shortcuts fail.\n",
       "    IPython.keyboard_manager.enable();\n",
       "    fig.parent_element.innerHTML =\n",
       "        '<img src=\"' + dataURL + '\" width=\"' + width + '\">';\n",
       "    fig.close_ws(fig, msg);\n",
       "};\n",
       "\n",
       "mpl.figure.prototype.close_ws = function (fig, msg) {\n",
       "    fig.send_message('closing', msg);\n",
       "    // fig.ws.close()\n",
       "};\n",
       "\n",
       "mpl.figure.prototype.push_to_output = function (_remove_interactive) {\n",
       "    // Turn the data on the canvas into data in the output cell.\n",
       "    var width = this.canvas.width / this.ratio;\n",
       "    var dataURL = this.canvas.toDataURL();\n",
       "    this.cell_info[1]['text/html'] =\n",
       "        '<img src=\"' + dataURL + '\" width=\"' + width + '\">';\n",
       "};\n",
       "\n",
       "mpl.figure.prototype.updated_canvas_event = function () {\n",
       "    // Tell IPython that the notebook contents must change.\n",
       "    IPython.notebook.set_dirty(true);\n",
       "    this.send_message('ack', {});\n",
       "    var fig = this;\n",
       "    // Wait a second, then push the new image to the DOM so\n",
       "    // that it is saved nicely (might be nice to debounce this).\n",
       "    setTimeout(function () {\n",
       "        fig.push_to_output();\n",
       "    }, 1000);\n",
       "};\n",
       "\n",
       "mpl.figure.prototype._init_toolbar = function () {\n",
       "    var fig = this;\n",
       "\n",
       "    var toolbar = document.createElement('div');\n",
       "    toolbar.classList = 'btn-toolbar';\n",
       "    this.root.appendChild(toolbar);\n",
       "\n",
       "    function on_click_closure(name) {\n",
       "        return function (_event) {\n",
       "            return fig.toolbar_button_onclick(name);\n",
       "        };\n",
       "    }\n",
       "\n",
       "    function on_mouseover_closure(tooltip) {\n",
       "        return function (event) {\n",
       "            if (!event.currentTarget.disabled) {\n",
       "                return fig.toolbar_button_onmouseover(tooltip);\n",
       "            }\n",
       "        };\n",
       "    }\n",
       "\n",
       "    fig.buttons = {};\n",
       "    var buttonGroup = document.createElement('div');\n",
       "    buttonGroup.classList = 'btn-group';\n",
       "    var button;\n",
       "    for (var toolbar_ind in mpl.toolbar_items) {\n",
       "        var name = mpl.toolbar_items[toolbar_ind][0];\n",
       "        var tooltip = mpl.toolbar_items[toolbar_ind][1];\n",
       "        var image = mpl.toolbar_items[toolbar_ind][2];\n",
       "        var method_name = mpl.toolbar_items[toolbar_ind][3];\n",
       "\n",
       "        if (!name) {\n",
       "            /* Instead of a spacer, we start a new button group. */\n",
       "            if (buttonGroup.hasChildNodes()) {\n",
       "                toolbar.appendChild(buttonGroup);\n",
       "            }\n",
       "            buttonGroup = document.createElement('div');\n",
       "            buttonGroup.classList = 'btn-group';\n",
       "            continue;\n",
       "        }\n",
       "\n",
       "        button = fig.buttons[name] = document.createElement('button');\n",
       "        button.classList = 'btn btn-default';\n",
       "        button.href = '#';\n",
       "        button.title = name;\n",
       "        button.innerHTML = '<i class=\"fa ' + image + ' fa-lg\"></i>';\n",
       "        button.addEventListener('click', on_click_closure(method_name));\n",
       "        button.addEventListener('mouseover', on_mouseover_closure(tooltip));\n",
       "        buttonGroup.appendChild(button);\n",
       "    }\n",
       "\n",
       "    if (buttonGroup.hasChildNodes()) {\n",
       "        toolbar.appendChild(buttonGroup);\n",
       "    }\n",
       "\n",
       "    // Add the status bar.\n",
       "    var status_bar = document.createElement('span');\n",
       "    status_bar.classList = 'mpl-message pull-right';\n",
       "    toolbar.appendChild(status_bar);\n",
       "    this.message = status_bar;\n",
       "\n",
       "    // Add the close button to the window.\n",
       "    var buttongrp = document.createElement('div');\n",
       "    buttongrp.classList = 'btn-group inline pull-right';\n",
       "    button = document.createElement('button');\n",
       "    button.classList = 'btn btn-mini btn-primary';\n",
       "    button.href = '#';\n",
       "    button.title = 'Stop Interaction';\n",
       "    button.innerHTML = '<i class=\"fa fa-power-off icon-remove icon-large\"></i>';\n",
       "    button.addEventListener('click', function (_evt) {\n",
       "        fig.handle_close(fig, {});\n",
       "    });\n",
       "    button.addEventListener(\n",
       "        'mouseover',\n",
       "        on_mouseover_closure('Stop Interaction')\n",
       "    );\n",
       "    buttongrp.appendChild(button);\n",
       "    var titlebar = this.root.querySelector('.ui-dialog-titlebar');\n",
       "    titlebar.insertBefore(buttongrp, titlebar.firstChild);\n",
       "};\n",
       "\n",
       "mpl.figure.prototype._remove_fig_handler = function (event) {\n",
       "    var fig = event.data.fig;\n",
       "    if (event.target !== this) {\n",
       "        // Ignore bubbled events from children.\n",
       "        return;\n",
       "    }\n",
       "    fig.close_ws(fig, {});\n",
       "};\n",
       "\n",
       "mpl.figure.prototype._root_extra_style = function (el) {\n",
       "    el.style.boxSizing = 'content-box'; // override notebook setting of border-box.\n",
       "};\n",
       "\n",
       "mpl.figure.prototype._canvas_extra_style = function (el) {\n",
       "    // this is important to make the div 'focusable\n",
       "    el.setAttribute('tabindex', 0);\n",
       "    // reach out to IPython and tell the keyboard manager to turn it's self\n",
       "    // off when our div gets focus\n",
       "\n",
       "    // location in version 3\n",
       "    if (IPython.notebook.keyboard_manager) {\n",
       "        IPython.notebook.keyboard_manager.register_events(el);\n",
       "    } else {\n",
       "        // location in version 2\n",
       "        IPython.keyboard_manager.register_events(el);\n",
       "    }\n",
       "};\n",
       "\n",
       "mpl.figure.prototype._key_event_extra = function (event, _name) {\n",
       "    // Check for shift+enter\n",
       "    if (event.shiftKey && event.which === 13) {\n",
       "        this.canvas_div.blur();\n",
       "        // select the cell after this one\n",
       "        var index = IPython.notebook.find_cell_index(this.cell_info[0]);\n",
       "        IPython.notebook.select(index + 1);\n",
       "    }\n",
       "};\n",
       "\n",
       "mpl.figure.prototype.handle_save = function (fig, _msg) {\n",
       "    fig.ondownload(fig, null);\n",
       "};\n",
       "\n",
       "mpl.find_output_cell = function (html_output) {\n",
       "    // Return the cell and output element which can be found *uniquely* in the notebook.\n",
       "    // Note - this is a bit hacky, but it is done because the \"notebook_saving.Notebook\"\n",
       "    // IPython event is triggered only after the cells have been serialised, which for\n",
       "    // our purposes (turning an active figure into a static one), is too late.\n",
       "    var cells = IPython.notebook.get_cells();\n",
       "    var ncells = cells.length;\n",
       "    for (var i = 0; i < ncells; i++) {\n",
       "        var cell = cells[i];\n",
       "        if (cell.cell_type === 'code') {\n",
       "            for (var j = 0; j < cell.output_area.outputs.length; j++) {\n",
       "                var data = cell.output_area.outputs[j];\n",
       "                if (data.data) {\n",
       "                    // IPython >= 3 moved mimebundle to data attribute of output\n",
       "                    data = data.data;\n",
       "                }\n",
       "                if (data['text/html'] === html_output) {\n",
       "                    return [cell, data, j];\n",
       "                }\n",
       "            }\n",
       "        }\n",
       "    }\n",
       "};\n",
       "\n",
       "// Register the function which deals with the matplotlib target/channel.\n",
       "// The kernel may be null if the page has been refreshed.\n",
       "if (IPython.notebook.kernel !== null) {\n",
       "    IPython.notebook.kernel.comm_manager.register_target(\n",
       "        'matplotlib',\n",
       "        mpl.mpl_figure_comm\n",
       "    );\n",
       "}\n"
      ],
      "text/plain": [
       "<IPython.core.display.Javascript object>"
      ]
     },
     "metadata": {},
     "output_type": "display_data"
    },
    {
     "data": {
      "text/html": [
       "<img src=\"data:image/png;base64,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\" width=\"640\">"
      ],
      "text/plain": [
       "<IPython.core.display.HTML object>"
      ]
     },
     "metadata": {},
     "output_type": "display_data"
    },
    {
     "data": {
      "text/plain": [
       "<matplotlib.lines.Line2D at 0x1c67842b6a0>"
      ]
     },
     "execution_count": 96,
     "metadata": {},
     "output_type": "execute_result"
    }
   ],
   "source": [
    "sns.kdeplot(dft['Brain'])\n",
    "plt.axvline(dft['Brain'].mean(),color = 'r')"
   ]
  },
  {
   "cell_type": "code",
   "execution_count": 98,
   "metadata": {},
   "outputs": [
    {
     "data": {
      "text/plain": [
       "<matplotlib.lines.Line2D at 0x1c6784ac160>"
      ]
     },
     "execution_count": 98,
     "metadata": {},
     "output_type": "execute_result"
    }
   ],
   "source": [
    "sns.kdeplot(dft['Body'])\n",
    "plt.axvline(dft['Body'].mean(),color = 'r')"
   ]
  },
  {
   "cell_type": "markdown",
   "metadata": {},
   "source": [
    "### By the above plots i have identified that the data is left skewed and to deals with it i am performing log normal distribution"
   ]
  },
  {
   "cell_type": "code",
   "execution_count": 99,
   "metadata": {},
   "outputs": [],
   "source": [
    "dfk = dft.copy()\n",
    "dfk = np.log(dfk)"
   ]
  },
  {
   "cell_type": "code",
   "execution_count": 100,
   "metadata": {},
   "outputs": [
    {
     "data": {
      "text/plain": [
       "<matplotlib.lines.Line2D at 0x1c6784afc10>"
      ]
     },
     "execution_count": 100,
     "metadata": {},
     "output_type": "execute_result"
    }
   ],
   "source": [
    "sns.kdeplot(dfk['Brain'])\n",
    "plt.axvline(dfk['Brain'].mean(),color = 'r')"
   ]
  },
  {
   "cell_type": "code",
   "execution_count": 101,
   "metadata": {},
   "outputs": [
    {
     "data": {
      "text/plain": [
       "<matplotlib.lines.Line2D at 0x1c678528370>"
      ]
     },
     "execution_count": 101,
     "metadata": {},
     "output_type": "execute_result"
    }
   ],
   "source": [
    "sns.kdeplot(dfk['Body'])\n",
    "plt.axvline(dfk['Body'].mean(),color = 'r')"
   ]
  },
  {
   "cell_type": "code",
   "execution_count": 102,
   "metadata": {
    "id": "gaq2LCxRt02G"
   },
   "outputs": [],
   "source": [
    "import matplotlib.pyplot as plt \n",
    "import seaborn as sns"
   ]
  },
  {
   "cell_type": "code",
   "execution_count": 103,
   "metadata": {
    "colab": {
     "base_uri": "https://localhost:8080/",
     "height": 34
    },
    "id": "43AH71yRt6NH",
    "outputId": "65004391-15fb-449c-fe2a-7af06b18966b"
   },
   "outputs": [
    {
     "data": {
      "application/javascript": [
       "/* Put everything inside the global mpl namespace */\n",
       "/* global mpl */\n",
       "window.mpl = {};\n",
       "\n",
       "mpl.get_websocket_type = function () {\n",
       "    if (typeof WebSocket !== 'undefined') {\n",
       "        return WebSocket;\n",
       "    } else if (typeof MozWebSocket !== 'undefined') {\n",
       "        return MozWebSocket;\n",
       "    } else {\n",
       "        alert(\n",
       "            'Your browser does not have WebSocket support. ' +\n",
       "                'Please try Chrome, Safari or Firefox ≥ 6. ' +\n",
       "                'Firefox 4 and 5 are also supported but you ' +\n",
       "                'have to enable WebSockets in about:config.'\n",
       "        );\n",
       "    }\n",
       "};\n",
       "\n",
       "mpl.figure = function (figure_id, websocket, ondownload, parent_element) {\n",
       "    this.id = figure_id;\n",
       "\n",
       "    this.ws = websocket;\n",
       "\n",
       "    this.supports_binary = this.ws.binaryType !== undefined;\n",
       "\n",
       "    if (!this.supports_binary) {\n",
       "        var warnings = document.getElementById('mpl-warnings');\n",
       "        if (warnings) {\n",
       "            warnings.style.display = 'block';\n",
       "            warnings.textContent =\n",
       "                'This browser does not support binary websocket messages. ' +\n",
       "                'Performance may be slow.';\n",
       "        }\n",
       "    }\n",
       "\n",
       "    this.imageObj = new Image();\n",
       "\n",
       "    this.context = undefined;\n",
       "    this.message = undefined;\n",
       "    this.canvas = undefined;\n",
       "    this.rubberband_canvas = undefined;\n",
       "    this.rubberband_context = undefined;\n",
       "    this.format_dropdown = undefined;\n",
       "\n",
       "    this.image_mode = 'full';\n",
       "\n",
       "    this.root = document.createElement('div');\n",
       "    this.root.setAttribute('style', 'display: inline-block');\n",
       "    this._root_extra_style(this.root);\n",
       "\n",
       "    parent_element.appendChild(this.root);\n",
       "\n",
       "    this._init_header(this);\n",
       "    this._init_canvas(this);\n",
       "    this._init_toolbar(this);\n",
       "\n",
       "    var fig = this;\n",
       "\n",
       "    this.waiting = false;\n",
       "\n",
       "    this.ws.onopen = function () {\n",
       "        fig.send_message('supports_binary', { value: fig.supports_binary });\n",
       "        fig.send_message('send_image_mode', {});\n",
       "        if (fig.ratio !== 1) {\n",
       "            fig.send_message('set_device_pixel_ratio', {\n",
       "                device_pixel_ratio: fig.ratio,\n",
       "            });\n",
       "        }\n",
       "        fig.send_message('refresh', {});\n",
       "    };\n",
       "\n",
       "    this.imageObj.onload = function () {\n",
       "        if (fig.image_mode === 'full') {\n",
       "            // Full images could contain transparency (where diff images\n",
       "            // almost always do), so we need to clear the canvas so that\n",
       "            // there is no ghosting.\n",
       "            fig.context.clearRect(0, 0, fig.canvas.width, fig.canvas.height);\n",
       "        }\n",
       "        fig.context.drawImage(fig.imageObj, 0, 0);\n",
       "    };\n",
       "\n",
       "    this.imageObj.onunload = function () {\n",
       "        fig.ws.close();\n",
       "    };\n",
       "\n",
       "    this.ws.onmessage = this._make_on_message_function(this);\n",
       "\n",
       "    this.ondownload = ondownload;\n",
       "};\n",
       "\n",
       "mpl.figure.prototype._init_header = function () {\n",
       "    var titlebar = document.createElement('div');\n",
       "    titlebar.classList =\n",
       "        'ui-dialog-titlebar ui-widget-header ui-corner-all ui-helper-clearfix';\n",
       "    var titletext = document.createElement('div');\n",
       "    titletext.classList = 'ui-dialog-title';\n",
       "    titletext.setAttribute(\n",
       "        'style',\n",
       "        'width: 100%; text-align: center; padding: 3px;'\n",
       "    );\n",
       "    titlebar.appendChild(titletext);\n",
       "    this.root.appendChild(titlebar);\n",
       "    this.header = titletext;\n",
       "};\n",
       "\n",
       "mpl.figure.prototype._canvas_extra_style = function (_canvas_div) {};\n",
       "\n",
       "mpl.figure.prototype._root_extra_style = function (_canvas_div) {};\n",
       "\n",
       "mpl.figure.prototype._init_canvas = function () {\n",
       "    var fig = this;\n",
       "\n",
       "    var canvas_div = (this.canvas_div = document.createElement('div'));\n",
       "    canvas_div.setAttribute(\n",
       "        'style',\n",
       "        'border: 1px solid #ddd;' +\n",
       "            'box-sizing: content-box;' +\n",
       "            'clear: both;' +\n",
       "            'min-height: 1px;' +\n",
       "            'min-width: 1px;' +\n",
       "            'outline: 0;' +\n",
       "            'overflow: hidden;' +\n",
       "            'position: relative;' +\n",
       "            'resize: both;'\n",
       "    );\n",
       "\n",
       "    function on_keyboard_event_closure(name) {\n",
       "        return function (event) {\n",
       "            return fig.key_event(event, name);\n",
       "        };\n",
       "    }\n",
       "\n",
       "    canvas_div.addEventListener(\n",
       "        'keydown',\n",
       "        on_keyboard_event_closure('key_press')\n",
       "    );\n",
       "    canvas_div.addEventListener(\n",
       "        'keyup',\n",
       "        on_keyboard_event_closure('key_release')\n",
       "    );\n",
       "\n",
       "    this._canvas_extra_style(canvas_div);\n",
       "    this.root.appendChild(canvas_div);\n",
       "\n",
       "    var canvas = (this.canvas = document.createElement('canvas'));\n",
       "    canvas.classList.add('mpl-canvas');\n",
       "    canvas.setAttribute('style', 'box-sizing: content-box;');\n",
       "\n",
       "    this.context = canvas.getContext('2d');\n",
       "\n",
       "    var backingStore =\n",
       "        this.context.backingStorePixelRatio ||\n",
       "        this.context.webkitBackingStorePixelRatio ||\n",
       "        this.context.mozBackingStorePixelRatio ||\n",
       "        this.context.msBackingStorePixelRatio ||\n",
       "        this.context.oBackingStorePixelRatio ||\n",
       "        this.context.backingStorePixelRatio ||\n",
       "        1;\n",
       "\n",
       "    this.ratio = (window.devicePixelRatio || 1) / backingStore;\n",
       "\n",
       "    var rubberband_canvas = (this.rubberband_canvas = document.createElement(\n",
       "        'canvas'\n",
       "    ));\n",
       "    rubberband_canvas.setAttribute(\n",
       "        'style',\n",
       "        'box-sizing: content-box; position: absolute; left: 0; top: 0; z-index: 1;'\n",
       "    );\n",
       "\n",
       "    // Apply a ponyfill if ResizeObserver is not implemented by browser.\n",
       "    if (this.ResizeObserver === undefined) {\n",
       "        if (window.ResizeObserver !== undefined) {\n",
       "            this.ResizeObserver = window.ResizeObserver;\n",
       "        } else {\n",
       "            var obs = _JSXTOOLS_RESIZE_OBSERVER({});\n",
       "            this.ResizeObserver = obs.ResizeObserver;\n",
       "        }\n",
       "    }\n",
       "\n",
       "    this.resizeObserverInstance = new this.ResizeObserver(function (entries) {\n",
       "        var nentries = entries.length;\n",
       "        for (var i = 0; i < nentries; i++) {\n",
       "            var entry = entries[i];\n",
       "            var width, height;\n",
       "            if (entry.contentBoxSize) {\n",
       "                if (entry.contentBoxSize instanceof Array) {\n",
       "                    // Chrome 84 implements new version of spec.\n",
       "                    width = entry.contentBoxSize[0].inlineSize;\n",
       "                    height = entry.contentBoxSize[0].blockSize;\n",
       "                } else {\n",
       "                    // Firefox implements old version of spec.\n",
       "                    width = entry.contentBoxSize.inlineSize;\n",
       "                    height = entry.contentBoxSize.blockSize;\n",
       "                }\n",
       "            } else {\n",
       "                // Chrome <84 implements even older version of spec.\n",
       "                width = entry.contentRect.width;\n",
       "                height = entry.contentRect.height;\n",
       "            }\n",
       "\n",
       "            // Keep the size of the canvas and rubber band canvas in sync with\n",
       "            // the canvas container.\n",
       "            if (entry.devicePixelContentBoxSize) {\n",
       "                // Chrome 84 implements new version of spec.\n",
       "                canvas.setAttribute(\n",
       "                    'width',\n",
       "                    entry.devicePixelContentBoxSize[0].inlineSize\n",
       "                );\n",
       "                canvas.setAttribute(\n",
       "                    'height',\n",
       "                    entry.devicePixelContentBoxSize[0].blockSize\n",
       "                );\n",
       "            } else {\n",
       "                canvas.setAttribute('width', width * fig.ratio);\n",
       "                canvas.setAttribute('height', height * fig.ratio);\n",
       "            }\n",
       "            canvas.setAttribute(\n",
       "                'style',\n",
       "                'width: ' + width + 'px; height: ' + height + 'px;'\n",
       "            );\n",
       "\n",
       "            rubberband_canvas.setAttribute('width', width);\n",
       "            rubberband_canvas.setAttribute('height', height);\n",
       "\n",
       "            // And update the size in Python. We ignore the initial 0/0 size\n",
       "            // that occurs as the element is placed into the DOM, which should\n",
       "            // otherwise not happen due to the minimum size styling.\n",
       "            if (fig.ws.readyState == 1 && width != 0 && height != 0) {\n",
       "                fig.request_resize(width, height);\n",
       "            }\n",
       "        }\n",
       "    });\n",
       "    this.resizeObserverInstance.observe(canvas_div);\n",
       "\n",
       "    function on_mouse_event_closure(name) {\n",
       "        return function (event) {\n",
       "            return fig.mouse_event(event, name);\n",
       "        };\n",
       "    }\n",
       "\n",
       "    rubberband_canvas.addEventListener(\n",
       "        'mousedown',\n",
       "        on_mouse_event_closure('button_press')\n",
       "    );\n",
       "    rubberband_canvas.addEventListener(\n",
       "        'mouseup',\n",
       "        on_mouse_event_closure('button_release')\n",
       "    );\n",
       "    rubberband_canvas.addEventListener(\n",
       "        'dblclick',\n",
       "        on_mouse_event_closure('dblclick')\n",
       "    );\n",
       "    // Throttle sequential mouse events to 1 every 20ms.\n",
       "    rubberband_canvas.addEventListener(\n",
       "        'mousemove',\n",
       "        on_mouse_event_closure('motion_notify')\n",
       "    );\n",
       "\n",
       "    rubberband_canvas.addEventListener(\n",
       "        'mouseenter',\n",
       "        on_mouse_event_closure('figure_enter')\n",
       "    );\n",
       "    rubberband_canvas.addEventListener(\n",
       "        'mouseleave',\n",
       "        on_mouse_event_closure('figure_leave')\n",
       "    );\n",
       "\n",
       "    canvas_div.addEventListener('wheel', function (event) {\n",
       "        if (event.deltaY < 0) {\n",
       "            event.step = 1;\n",
       "        } else {\n",
       "            event.step = -1;\n",
       "        }\n",
       "        on_mouse_event_closure('scroll')(event);\n",
       "    });\n",
       "\n",
       "    canvas_div.appendChild(canvas);\n",
       "    canvas_div.appendChild(rubberband_canvas);\n",
       "\n",
       "    this.rubberband_context = rubberband_canvas.getContext('2d');\n",
       "    this.rubberband_context.strokeStyle = '#000000';\n",
       "\n",
       "    this._resize_canvas = function (width, height, forward) {\n",
       "        if (forward) {\n",
       "            canvas_div.style.width = width + 'px';\n",
       "            canvas_div.style.height = height + 'px';\n",
       "        }\n",
       "    };\n",
       "\n",
       "    // Disable right mouse context menu.\n",
       "    this.rubberband_canvas.addEventListener('contextmenu', function (_e) {\n",
       "        event.preventDefault();\n",
       "        return false;\n",
       "    });\n",
       "\n",
       "    function set_focus() {\n",
       "        canvas.focus();\n",
       "        canvas_div.focus();\n",
       "    }\n",
       "\n",
       "    window.setTimeout(set_focus, 100);\n",
       "};\n",
       "\n",
       "mpl.figure.prototype._init_toolbar = function () {\n",
       "    var fig = this;\n",
       "\n",
       "    var toolbar = document.createElement('div');\n",
       "    toolbar.classList = 'mpl-toolbar';\n",
       "    this.root.appendChild(toolbar);\n",
       "\n",
       "    function on_click_closure(name) {\n",
       "        return function (_event) {\n",
       "            return fig.toolbar_button_onclick(name);\n",
       "        };\n",
       "    }\n",
       "\n",
       "    function on_mouseover_closure(tooltip) {\n",
       "        return function (event) {\n",
       "            if (!event.currentTarget.disabled) {\n",
       "                return fig.toolbar_button_onmouseover(tooltip);\n",
       "            }\n",
       "        };\n",
       "    }\n",
       "\n",
       "    fig.buttons = {};\n",
       "    var buttonGroup = document.createElement('div');\n",
       "    buttonGroup.classList = 'mpl-button-group';\n",
       "    for (var toolbar_ind in mpl.toolbar_items) {\n",
       "        var name = mpl.toolbar_items[toolbar_ind][0];\n",
       "        var tooltip = mpl.toolbar_items[toolbar_ind][1];\n",
       "        var image = mpl.toolbar_items[toolbar_ind][2];\n",
       "        var method_name = mpl.toolbar_items[toolbar_ind][3];\n",
       "\n",
       "        if (!name) {\n",
       "            /* Instead of a spacer, we start a new button group. */\n",
       "            if (buttonGroup.hasChildNodes()) {\n",
       "                toolbar.appendChild(buttonGroup);\n",
       "            }\n",
       "            buttonGroup = document.createElement('div');\n",
       "            buttonGroup.classList = 'mpl-button-group';\n",
       "            continue;\n",
       "        }\n",
       "\n",
       "        var button = (fig.buttons[name] = document.createElement('button'));\n",
       "        button.classList = 'mpl-widget';\n",
       "        button.setAttribute('role', 'button');\n",
       "        button.setAttribute('aria-disabled', 'false');\n",
       "        button.addEventListener('click', on_click_closure(method_name));\n",
       "        button.addEventListener('mouseover', on_mouseover_closure(tooltip));\n",
       "\n",
       "        var icon_img = document.createElement('img');\n",
       "        icon_img.src = '_images/' + image + '.png';\n",
       "        icon_img.srcset = '_images/' + image + '_large.png 2x';\n",
       "        icon_img.alt = tooltip;\n",
       "        button.appendChild(icon_img);\n",
       "\n",
       "        buttonGroup.appendChild(button);\n",
       "    }\n",
       "\n",
       "    if (buttonGroup.hasChildNodes()) {\n",
       "        toolbar.appendChild(buttonGroup);\n",
       "    }\n",
       "\n",
       "    var fmt_picker = document.createElement('select');\n",
       "    fmt_picker.classList = 'mpl-widget';\n",
       "    toolbar.appendChild(fmt_picker);\n",
       "    this.format_dropdown = fmt_picker;\n",
       "\n",
       "    for (var ind in mpl.extensions) {\n",
       "        var fmt = mpl.extensions[ind];\n",
       "        var option = document.createElement('option');\n",
       "        option.selected = fmt === mpl.default_extension;\n",
       "        option.innerHTML = fmt;\n",
       "        fmt_picker.appendChild(option);\n",
       "    }\n",
       "\n",
       "    var status_bar = document.createElement('span');\n",
       "    status_bar.classList = 'mpl-message';\n",
       "    toolbar.appendChild(status_bar);\n",
       "    this.message = status_bar;\n",
       "};\n",
       "\n",
       "mpl.figure.prototype.request_resize = function (x_pixels, y_pixels) {\n",
       "    // Request matplotlib to resize the figure. Matplotlib will then trigger a resize in the client,\n",
       "    // which will in turn request a refresh of the image.\n",
       "    this.send_message('resize', { width: x_pixels, height: y_pixels });\n",
       "};\n",
       "\n",
       "mpl.figure.prototype.send_message = function (type, properties) {\n",
       "    properties['type'] = type;\n",
       "    properties['figure_id'] = this.id;\n",
       "    this.ws.send(JSON.stringify(properties));\n",
       "};\n",
       "\n",
       "mpl.figure.prototype.send_draw_message = function () {\n",
       "    if (!this.waiting) {\n",
       "        this.waiting = true;\n",
       "        this.ws.send(JSON.stringify({ type: 'draw', figure_id: this.id }));\n",
       "    }\n",
       "};\n",
       "\n",
       "mpl.figure.prototype.handle_save = function (fig, _msg) {\n",
       "    var format_dropdown = fig.format_dropdown;\n",
       "    var format = format_dropdown.options[format_dropdown.selectedIndex].value;\n",
       "    fig.ondownload(fig, format);\n",
       "};\n",
       "\n",
       "mpl.figure.prototype.handle_resize = function (fig, msg) {\n",
       "    var size = msg['size'];\n",
       "    if (size[0] !== fig.canvas.width || size[1] !== fig.canvas.height) {\n",
       "        fig._resize_canvas(size[0], size[1], msg['forward']);\n",
       "        fig.send_message('refresh', {});\n",
       "    }\n",
       "};\n",
       "\n",
       "mpl.figure.prototype.handle_rubberband = function (fig, msg) {\n",
       "    var x0 = msg['x0'] / fig.ratio;\n",
       "    var y0 = (fig.canvas.height - msg['y0']) / fig.ratio;\n",
       "    var x1 = msg['x1'] / fig.ratio;\n",
       "    var y1 = (fig.canvas.height - msg['y1']) / fig.ratio;\n",
       "    x0 = Math.floor(x0) + 0.5;\n",
       "    y0 = Math.floor(y0) + 0.5;\n",
       "    x1 = Math.floor(x1) + 0.5;\n",
       "    y1 = Math.floor(y1) + 0.5;\n",
       "    var min_x = Math.min(x0, x1);\n",
       "    var min_y = Math.min(y0, y1);\n",
       "    var width = Math.abs(x1 - x0);\n",
       "    var height = Math.abs(y1 - y0);\n",
       "\n",
       "    fig.rubberband_context.clearRect(\n",
       "        0,\n",
       "        0,\n",
       "        fig.canvas.width / fig.ratio,\n",
       "        fig.canvas.height / fig.ratio\n",
       "    );\n",
       "\n",
       "    fig.rubberband_context.strokeRect(min_x, min_y, width, height);\n",
       "};\n",
       "\n",
       "mpl.figure.prototype.handle_figure_label = function (fig, msg) {\n",
       "    // Updates the figure title.\n",
       "    fig.header.textContent = msg['label'];\n",
       "};\n",
       "\n",
       "mpl.figure.prototype.handle_cursor = function (fig, msg) {\n",
       "    fig.rubberband_canvas.style.cursor = msg['cursor'];\n",
       "};\n",
       "\n",
       "mpl.figure.prototype.handle_message = function (fig, msg) {\n",
       "    fig.message.textContent = msg['message'];\n",
       "};\n",
       "\n",
       "mpl.figure.prototype.handle_draw = function (fig, _msg) {\n",
       "    // Request the server to send over a new figure.\n",
       "    fig.send_draw_message();\n",
       "};\n",
       "\n",
       "mpl.figure.prototype.handle_image_mode = function (fig, msg) {\n",
       "    fig.image_mode = msg['mode'];\n",
       "};\n",
       "\n",
       "mpl.figure.prototype.handle_history_buttons = function (fig, msg) {\n",
       "    for (var key in msg) {\n",
       "        if (!(key in fig.buttons)) {\n",
       "            continue;\n",
       "        }\n",
       "        fig.buttons[key].disabled = !msg[key];\n",
       "        fig.buttons[key].setAttribute('aria-disabled', !msg[key]);\n",
       "    }\n",
       "};\n",
       "\n",
       "mpl.figure.prototype.handle_navigate_mode = function (fig, msg) {\n",
       "    if (msg['mode'] === 'PAN') {\n",
       "        fig.buttons['Pan'].classList.add('active');\n",
       "        fig.buttons['Zoom'].classList.remove('active');\n",
       "    } else if (msg['mode'] === 'ZOOM') {\n",
       "        fig.buttons['Pan'].classList.remove('active');\n",
       "        fig.buttons['Zoom'].classList.add('active');\n",
       "    } else {\n",
       "        fig.buttons['Pan'].classList.remove('active');\n",
       "        fig.buttons['Zoom'].classList.remove('active');\n",
       "    }\n",
       "};\n",
       "\n",
       "mpl.figure.prototype.updated_canvas_event = function () {\n",
       "    // Called whenever the canvas gets updated.\n",
       "    this.send_message('ack', {});\n",
       "};\n",
       "\n",
       "// A function to construct a web socket function for onmessage handling.\n",
       "// Called in the figure constructor.\n",
       "mpl.figure.prototype._make_on_message_function = function (fig) {\n",
       "    return function socket_on_message(evt) {\n",
       "        if (evt.data instanceof Blob) {\n",
       "            var img = evt.data;\n",
       "            if (img.type !== 'image/png') {\n",
       "                /* FIXME: We get \"Resource interpreted as Image but\n",
       "                 * transferred with MIME type text/plain:\" errors on\n",
       "                 * Chrome.  But how to set the MIME type?  It doesn't seem\n",
       "                 * to be part of the websocket stream */\n",
       "                img.type = 'image/png';\n",
       "            }\n",
       "\n",
       "            /* Free the memory for the previous frames */\n",
       "            if (fig.imageObj.src) {\n",
       "                (window.URL || window.webkitURL).revokeObjectURL(\n",
       "                    fig.imageObj.src\n",
       "                );\n",
       "            }\n",
       "\n",
       "            fig.imageObj.src = (window.URL || window.webkitURL).createObjectURL(\n",
       "                img\n",
       "            );\n",
       "            fig.updated_canvas_event();\n",
       "            fig.waiting = false;\n",
       "            return;\n",
       "        } else if (\n",
       "            typeof evt.data === 'string' &&\n",
       "            evt.data.slice(0, 21) === 'data:image/png;base64'\n",
       "        ) {\n",
       "            fig.imageObj.src = evt.data;\n",
       "            fig.updated_canvas_event();\n",
       "            fig.waiting = false;\n",
       "            return;\n",
       "        }\n",
       "\n",
       "        var msg = JSON.parse(evt.data);\n",
       "        var msg_type = msg['type'];\n",
       "\n",
       "        // Call the  \"handle_{type}\" callback, which takes\n",
       "        // the figure and JSON message as its only arguments.\n",
       "        try {\n",
       "            var callback = fig['handle_' + msg_type];\n",
       "        } catch (e) {\n",
       "            console.log(\n",
       "                \"No handler for the '\" + msg_type + \"' message type: \",\n",
       "                msg\n",
       "            );\n",
       "            return;\n",
       "        }\n",
       "\n",
       "        if (callback) {\n",
       "            try {\n",
       "                // console.log(\"Handling '\" + msg_type + \"' message: \", msg);\n",
       "                callback(fig, msg);\n",
       "            } catch (e) {\n",
       "                console.log(\n",
       "                    \"Exception inside the 'handler_\" + msg_type + \"' callback:\",\n",
       "                    e,\n",
       "                    e.stack,\n",
       "                    msg\n",
       "                );\n",
       "            }\n",
       "        }\n",
       "    };\n",
       "};\n",
       "\n",
       "// from https://stackoverflow.com/questions/1114465/getting-mouse-location-in-canvas\n",
       "mpl.findpos = function (e) {\n",
       "    //this section is from http://www.quirksmode.org/js/events_properties.html\n",
       "    var targ;\n",
       "    if (!e) {\n",
       "        e = window.event;\n",
       "    }\n",
       "    if (e.target) {\n",
       "        targ = e.target;\n",
       "    } else if (e.srcElement) {\n",
       "        targ = e.srcElement;\n",
       "    }\n",
       "    if (targ.nodeType === 3) {\n",
       "        // defeat Safari bug\n",
       "        targ = targ.parentNode;\n",
       "    }\n",
       "\n",
       "    // pageX,Y are the mouse positions relative to the document\n",
       "    var boundingRect = targ.getBoundingClientRect();\n",
       "    var x = e.pageX - (boundingRect.left + document.body.scrollLeft);\n",
       "    var y = e.pageY - (boundingRect.top + document.body.scrollTop);\n",
       "\n",
       "    return { x: x, y: y };\n",
       "};\n",
       "\n",
       "/*\n",
       " * return a copy of an object with only non-object keys\n",
       " * we need this to avoid circular references\n",
       " * https://stackoverflow.com/a/24161582/3208463\n",
       " */\n",
       "function simpleKeys(original) {\n",
       "    return Object.keys(original).reduce(function (obj, key) {\n",
       "        if (typeof original[key] !== 'object') {\n",
       "            obj[key] = original[key];\n",
       "        }\n",
       "        return obj;\n",
       "    }, {});\n",
       "}\n",
       "\n",
       "mpl.figure.prototype.mouse_event = function (event, name) {\n",
       "    var canvas_pos = mpl.findpos(event);\n",
       "\n",
       "    if (name === 'button_press') {\n",
       "        this.canvas.focus();\n",
       "        this.canvas_div.focus();\n",
       "    }\n",
       "\n",
       "    var x = canvas_pos.x * this.ratio;\n",
       "    var y = canvas_pos.y * this.ratio;\n",
       "\n",
       "    this.send_message(name, {\n",
       "        x: x,\n",
       "        y: y,\n",
       "        button: event.button,\n",
       "        step: event.step,\n",
       "        guiEvent: simpleKeys(event),\n",
       "    });\n",
       "\n",
       "    /* This prevents the web browser from automatically changing to\n",
       "     * the text insertion cursor when the button is pressed.  We want\n",
       "     * to control all of the cursor setting manually through the\n",
       "     * 'cursor' event from matplotlib */\n",
       "    event.preventDefault();\n",
       "    return false;\n",
       "};\n",
       "\n",
       "mpl.figure.prototype._key_event_extra = function (_event, _name) {\n",
       "    // Handle any extra behaviour associated with a key event\n",
       "};\n",
       "\n",
       "mpl.figure.prototype.key_event = function (event, name) {\n",
       "    // Prevent repeat events\n",
       "    if (name === 'key_press') {\n",
       "        if (event.key === this._key) {\n",
       "            return;\n",
       "        } else {\n",
       "            this._key = event.key;\n",
       "        }\n",
       "    }\n",
       "    if (name === 'key_release') {\n",
       "        this._key = null;\n",
       "    }\n",
       "\n",
       "    var value = '';\n",
       "    if (event.ctrlKey && event.key !== 'Control') {\n",
       "        value += 'ctrl+';\n",
       "    }\n",
       "    else if (event.altKey && event.key !== 'Alt') {\n",
       "        value += 'alt+';\n",
       "    }\n",
       "    else if (event.shiftKey && event.key !== 'Shift') {\n",
       "        value += 'shift+';\n",
       "    }\n",
       "\n",
       "    value += 'k' + event.key;\n",
       "\n",
       "    this._key_event_extra(event, name);\n",
       "\n",
       "    this.send_message(name, { key: value, guiEvent: simpleKeys(event) });\n",
       "    return false;\n",
       "};\n",
       "\n",
       "mpl.figure.prototype.toolbar_button_onclick = function (name) {\n",
       "    if (name === 'download') {\n",
       "        this.handle_save(this, null);\n",
       "    } else {\n",
       "        this.send_message('toolbar_button', { name: name });\n",
       "    }\n",
       "};\n",
       "\n",
       "mpl.figure.prototype.toolbar_button_onmouseover = function (tooltip) {\n",
       "    this.message.textContent = tooltip;\n",
       "};\n",
       "\n",
       "///////////////// REMAINING CONTENT GENERATED BY embed_js.py /////////////////\n",
       "// prettier-ignore\n",
       "var _JSXTOOLS_RESIZE_OBSERVER=function(A){var t,i=new WeakMap,n=new WeakMap,a=new WeakMap,r=new WeakMap,o=new Set;function s(e){if(!(this instanceof s))throw new TypeError(\"Constructor requires 'new' operator\");i.set(this,e)}function h(){throw new TypeError(\"Function is not a constructor\")}function c(e,t,i,n){e=0 in arguments?Number(arguments[0]):0,t=1 in arguments?Number(arguments[1]):0,i=2 in arguments?Number(arguments[2]):0,n=3 in arguments?Number(arguments[3]):0,this.right=(this.x=this.left=e)+(this.width=i),this.bottom=(this.y=this.top=t)+(this.height=n),Object.freeze(this)}function d(){t=requestAnimationFrame(d);var s=new WeakMap,p=new Set;o.forEach((function(t){r.get(t).forEach((function(i){var r=t instanceof window.SVGElement,o=a.get(t),d=r?0:parseFloat(o.paddingTop),f=r?0:parseFloat(o.paddingRight),l=r?0:parseFloat(o.paddingBottom),u=r?0:parseFloat(o.paddingLeft),g=r?0:parseFloat(o.borderTopWidth),m=r?0:parseFloat(o.borderRightWidth),w=r?0:parseFloat(o.borderBottomWidth),b=u+f,F=d+l,v=(r?0:parseFloat(o.borderLeftWidth))+m,W=g+w,y=r?0:t.offsetHeight-W-t.clientHeight,E=r?0:t.offsetWidth-v-t.clientWidth,R=b+v,z=F+W,M=r?t.width:parseFloat(o.width)-R-E,O=r?t.height:parseFloat(o.height)-z-y;if(n.has(t)){var k=n.get(t);if(k[0]===M&&k[1]===O)return}n.set(t,[M,O]);var S=Object.create(h.prototype);S.target=t,S.contentRect=new c(u,d,M,O),s.has(i)||(s.set(i,[]),p.add(i)),s.get(i).push(S)}))})),p.forEach((function(e){i.get(e).call(e,s.get(e),e)}))}return s.prototype.observe=function(i){if(i instanceof window.Element){r.has(i)||(r.set(i,new Set),o.add(i),a.set(i,window.getComputedStyle(i)));var n=r.get(i);n.has(this)||n.add(this),cancelAnimationFrame(t),t=requestAnimationFrame(d)}},s.prototype.unobserve=function(i){if(i instanceof window.Element&&r.has(i)){var n=r.get(i);n.has(this)&&(n.delete(this),n.size||(r.delete(i),o.delete(i))),n.size||r.delete(i),o.size||cancelAnimationFrame(t)}},A.DOMRectReadOnly=c,A.ResizeObserver=s,A.ResizeObserverEntry=h,A}; // eslint-disable-line\n",
       "mpl.toolbar_items = [[\"Home\", \"Reset original view\", \"fa fa-home icon-home\", \"home\"], [\"Back\", \"Back to previous view\", \"fa fa-arrow-left icon-arrow-left\", \"back\"], [\"Forward\", \"Forward to next view\", \"fa fa-arrow-right icon-arrow-right\", \"forward\"], [\"\", \"\", \"\", \"\"], [\"Pan\", \"Left button pans, Right button zooms\\nx/y fixes axis, CTRL fixes aspect\", \"fa fa-arrows icon-move\", \"pan\"], [\"Zoom\", \"Zoom to rectangle\\nx/y fixes axis\", \"fa fa-square-o icon-check-empty\", \"zoom\"], [\"\", \"\", \"\", \"\"], [\"Download\", \"Download plot\", \"fa fa-floppy-o icon-save\", \"download\"]];\n",
       "\n",
       "mpl.extensions = [\"eps\", \"jpeg\", \"pgf\", \"pdf\", \"png\", \"ps\", \"raw\", \"svg\", \"tif\"];\n",
       "\n",
       "mpl.default_extension = \"png\";/* global mpl */\n",
       "\n",
       "var comm_websocket_adapter = function (comm) {\n",
       "    // Create a \"websocket\"-like object which calls the given IPython comm\n",
       "    // object with the appropriate methods. Currently this is a non binary\n",
       "    // socket, so there is still some room for performance tuning.\n",
       "    var ws = {};\n",
       "\n",
       "    ws.binaryType = comm.kernel.ws.binaryType;\n",
       "    ws.readyState = comm.kernel.ws.readyState;\n",
       "    function updateReadyState(_event) {\n",
       "        if (comm.kernel.ws) {\n",
       "            ws.readyState = comm.kernel.ws.readyState;\n",
       "        } else {\n",
       "            ws.readyState = 3; // Closed state.\n",
       "        }\n",
       "    }\n",
       "    comm.kernel.ws.addEventListener('open', updateReadyState);\n",
       "    comm.kernel.ws.addEventListener('close', updateReadyState);\n",
       "    comm.kernel.ws.addEventListener('error', updateReadyState);\n",
       "\n",
       "    ws.close = function () {\n",
       "        comm.close();\n",
       "    };\n",
       "    ws.send = function (m) {\n",
       "        //console.log('sending', m);\n",
       "        comm.send(m);\n",
       "    };\n",
       "    // Register the callback with on_msg.\n",
       "    comm.on_msg(function (msg) {\n",
       "        //console.log('receiving', msg['content']['data'], msg);\n",
       "        var data = msg['content']['data'];\n",
       "        if (data['blob'] !== undefined) {\n",
       "            data = {\n",
       "                data: new Blob(msg['buffers'], { type: data['blob'] }),\n",
       "            };\n",
       "        }\n",
       "        // Pass the mpl event to the overridden (by mpl) onmessage function.\n",
       "        ws.onmessage(data);\n",
       "    });\n",
       "    return ws;\n",
       "};\n",
       "\n",
       "mpl.mpl_figure_comm = function (comm, msg) {\n",
       "    // This is the function which gets called when the mpl process\n",
       "    // starts-up an IPython Comm through the \"matplotlib\" channel.\n",
       "\n",
       "    var id = msg.content.data.id;\n",
       "    // Get hold of the div created by the display call when the Comm\n",
       "    // socket was opened in Python.\n",
       "    var element = document.getElementById(id);\n",
       "    var ws_proxy = comm_websocket_adapter(comm);\n",
       "\n",
       "    function ondownload(figure, _format) {\n",
       "        window.open(figure.canvas.toDataURL());\n",
       "    }\n",
       "\n",
       "    var fig = new mpl.figure(id, ws_proxy, ondownload, element);\n",
       "\n",
       "    // Call onopen now - mpl needs it, as it is assuming we've passed it a real\n",
       "    // web socket which is closed, not our websocket->open comm proxy.\n",
       "    ws_proxy.onopen();\n",
       "\n",
       "    fig.parent_element = element;\n",
       "    fig.cell_info = mpl.find_output_cell(\"<div id='\" + id + \"'></div>\");\n",
       "    if (!fig.cell_info) {\n",
       "        console.error('Failed to find cell for figure', id, fig);\n",
       "        return;\n",
       "    }\n",
       "    fig.cell_info[0].output_area.element.on(\n",
       "        'cleared',\n",
       "        { fig: fig },\n",
       "        fig._remove_fig_handler\n",
       "    );\n",
       "};\n",
       "\n",
       "mpl.figure.prototype.handle_close = function (fig, msg) {\n",
       "    var width = fig.canvas.width / fig.ratio;\n",
       "    fig.cell_info[0].output_area.element.off(\n",
       "        'cleared',\n",
       "        fig._remove_fig_handler\n",
       "    );\n",
       "    fig.resizeObserverInstance.unobserve(fig.canvas_div);\n",
       "\n",
       "    // Update the output cell to use the data from the current canvas.\n",
       "    fig.push_to_output();\n",
       "    var dataURL = fig.canvas.toDataURL();\n",
       "    // Re-enable the keyboard manager in IPython - without this line, in FF,\n",
       "    // the notebook keyboard shortcuts fail.\n",
       "    IPython.keyboard_manager.enable();\n",
       "    fig.parent_element.innerHTML =\n",
       "        '<img src=\"' + dataURL + '\" width=\"' + width + '\">';\n",
       "    fig.close_ws(fig, msg);\n",
       "};\n",
       "\n",
       "mpl.figure.prototype.close_ws = function (fig, msg) {\n",
       "    fig.send_message('closing', msg);\n",
       "    // fig.ws.close()\n",
       "};\n",
       "\n",
       "mpl.figure.prototype.push_to_output = function (_remove_interactive) {\n",
       "    // Turn the data on the canvas into data in the output cell.\n",
       "    var width = this.canvas.width / this.ratio;\n",
       "    var dataURL = this.canvas.toDataURL();\n",
       "    this.cell_info[1]['text/html'] =\n",
       "        '<img src=\"' + dataURL + '\" width=\"' + width + '\">';\n",
       "};\n",
       "\n",
       "mpl.figure.prototype.updated_canvas_event = function () {\n",
       "    // Tell IPython that the notebook contents must change.\n",
       "    IPython.notebook.set_dirty(true);\n",
       "    this.send_message('ack', {});\n",
       "    var fig = this;\n",
       "    // Wait a second, then push the new image to the DOM so\n",
       "    // that it is saved nicely (might be nice to debounce this).\n",
       "    setTimeout(function () {\n",
       "        fig.push_to_output();\n",
       "    }, 1000);\n",
       "};\n",
       "\n",
       "mpl.figure.prototype._init_toolbar = function () {\n",
       "    var fig = this;\n",
       "\n",
       "    var toolbar = document.createElement('div');\n",
       "    toolbar.classList = 'btn-toolbar';\n",
       "    this.root.appendChild(toolbar);\n",
       "\n",
       "    function on_click_closure(name) {\n",
       "        return function (_event) {\n",
       "            return fig.toolbar_button_onclick(name);\n",
       "        };\n",
       "    }\n",
       "\n",
       "    function on_mouseover_closure(tooltip) {\n",
       "        return function (event) {\n",
       "            if (!event.currentTarget.disabled) {\n",
       "                return fig.toolbar_button_onmouseover(tooltip);\n",
       "            }\n",
       "        };\n",
       "    }\n",
       "\n",
       "    fig.buttons = {};\n",
       "    var buttonGroup = document.createElement('div');\n",
       "    buttonGroup.classList = 'btn-group';\n",
       "    var button;\n",
       "    for (var toolbar_ind in mpl.toolbar_items) {\n",
       "        var name = mpl.toolbar_items[toolbar_ind][0];\n",
       "        var tooltip = mpl.toolbar_items[toolbar_ind][1];\n",
       "        var image = mpl.toolbar_items[toolbar_ind][2];\n",
       "        var method_name = mpl.toolbar_items[toolbar_ind][3];\n",
       "\n",
       "        if (!name) {\n",
       "            /* Instead of a spacer, we start a new button group. */\n",
       "            if (buttonGroup.hasChildNodes()) {\n",
       "                toolbar.appendChild(buttonGroup);\n",
       "            }\n",
       "            buttonGroup = document.createElement('div');\n",
       "            buttonGroup.classList = 'btn-group';\n",
       "            continue;\n",
       "        }\n",
       "\n",
       "        button = fig.buttons[name] = document.createElement('button');\n",
       "        button.classList = 'btn btn-default';\n",
       "        button.href = '#';\n",
       "        button.title = name;\n",
       "        button.innerHTML = '<i class=\"fa ' + image + ' fa-lg\"></i>';\n",
       "        button.addEventListener('click', on_click_closure(method_name));\n",
       "        button.addEventListener('mouseover', on_mouseover_closure(tooltip));\n",
       "        buttonGroup.appendChild(button);\n",
       "    }\n",
       "\n",
       "    if (buttonGroup.hasChildNodes()) {\n",
       "        toolbar.appendChild(buttonGroup);\n",
       "    }\n",
       "\n",
       "    // Add the status bar.\n",
       "    var status_bar = document.createElement('span');\n",
       "    status_bar.classList = 'mpl-message pull-right';\n",
       "    toolbar.appendChild(status_bar);\n",
       "    this.message = status_bar;\n",
       "\n",
       "    // Add the close button to the window.\n",
       "    var buttongrp = document.createElement('div');\n",
       "    buttongrp.classList = 'btn-group inline pull-right';\n",
       "    button = document.createElement('button');\n",
       "    button.classList = 'btn btn-mini btn-primary';\n",
       "    button.href = '#';\n",
       "    button.title = 'Stop Interaction';\n",
       "    button.innerHTML = '<i class=\"fa fa-power-off icon-remove icon-large\"></i>';\n",
       "    button.addEventListener('click', function (_evt) {\n",
       "        fig.handle_close(fig, {});\n",
       "    });\n",
       "    button.addEventListener(\n",
       "        'mouseover',\n",
       "        on_mouseover_closure('Stop Interaction')\n",
       "    );\n",
       "    buttongrp.appendChild(button);\n",
       "    var titlebar = this.root.querySelector('.ui-dialog-titlebar');\n",
       "    titlebar.insertBefore(buttongrp, titlebar.firstChild);\n",
       "};\n",
       "\n",
       "mpl.figure.prototype._remove_fig_handler = function (event) {\n",
       "    var fig = event.data.fig;\n",
       "    if (event.target !== this) {\n",
       "        // Ignore bubbled events from children.\n",
       "        return;\n",
       "    }\n",
       "    fig.close_ws(fig, {});\n",
       "};\n",
       "\n",
       "mpl.figure.prototype._root_extra_style = function (el) {\n",
       "    el.style.boxSizing = 'content-box'; // override notebook setting of border-box.\n",
       "};\n",
       "\n",
       "mpl.figure.prototype._canvas_extra_style = function (el) {\n",
       "    // this is important to make the div 'focusable\n",
       "    el.setAttribute('tabindex', 0);\n",
       "    // reach out to IPython and tell the keyboard manager to turn it's self\n",
       "    // off when our div gets focus\n",
       "\n",
       "    // location in version 3\n",
       "    if (IPython.notebook.keyboard_manager) {\n",
       "        IPython.notebook.keyboard_manager.register_events(el);\n",
       "    } else {\n",
       "        // location in version 2\n",
       "        IPython.keyboard_manager.register_events(el);\n",
       "    }\n",
       "};\n",
       "\n",
       "mpl.figure.prototype._key_event_extra = function (event, _name) {\n",
       "    // Check for shift+enter\n",
       "    if (event.shiftKey && event.which === 13) {\n",
       "        this.canvas_div.blur();\n",
       "        // select the cell after this one\n",
       "        var index = IPython.notebook.find_cell_index(this.cell_info[0]);\n",
       "        IPython.notebook.select(index + 1);\n",
       "    }\n",
       "};\n",
       "\n",
       "mpl.figure.prototype.handle_save = function (fig, _msg) {\n",
       "    fig.ondownload(fig, null);\n",
       "};\n",
       "\n",
       "mpl.find_output_cell = function (html_output) {\n",
       "    // Return the cell and output element which can be found *uniquely* in the notebook.\n",
       "    // Note - this is a bit hacky, but it is done because the \"notebook_saving.Notebook\"\n",
       "    // IPython event is triggered only after the cells have been serialised, which for\n",
       "    // our purposes (turning an active figure into a static one), is too late.\n",
       "    var cells = IPython.notebook.get_cells();\n",
       "    var ncells = cells.length;\n",
       "    for (var i = 0; i < ncells; i++) {\n",
       "        var cell = cells[i];\n",
       "        if (cell.cell_type === 'code') {\n",
       "            for (var j = 0; j < cell.output_area.outputs.length; j++) {\n",
       "                var data = cell.output_area.outputs[j];\n",
       "                if (data.data) {\n",
       "                    // IPython >= 3 moved mimebundle to data attribute of output\n",
       "                    data = data.data;\n",
       "                }\n",
       "                if (data['text/html'] === html_output) {\n",
       "                    return [cell, data, j];\n",
       "                }\n",
       "            }\n",
       "        }\n",
       "    }\n",
       "};\n",
       "\n",
       "// Register the function which deals with the matplotlib target/channel.\n",
       "// The kernel may be null if the page has been refreshed.\n",
       "if (IPython.notebook.kernel !== null) {\n",
       "    IPython.notebook.kernel.comm_manager.register_target(\n",
       "        'matplotlib',\n",
       "        mpl.mpl_figure_comm\n",
       "    );\n",
       "}\n"
      ],
      "text/plain": [
       "<IPython.core.display.Javascript object>"
      ]
     },
     "metadata": {},
     "output_type": "display_data"
    },
    {
     "data": {
      "text/html": [
       "<img src=\"data:image/png;base64,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\" width=\"640\">"
      ],
      "text/plain": [
       "<IPython.core.display.HTML object>"
      ]
     },
     "metadata": {},
     "output_type": "display_data"
    }
   ],
   "source": [
    " %matplotlib notebook\n",
    "plt.plot(dfk['Brain'],dfk['Body'],\".\")\n",
    "plt.xlabel('Brain')\n",
    "plt.ylabel('Body')\n",
    "plt.title('Brain vs Body')\n",
    "plt.show()"
   ]
  },
  {
   "cell_type": "code",
   "execution_count": 104,
   "metadata": {
    "colab": {
     "base_uri": "https://localhost:8080/",
     "height": 34
    },
    "id": "1AKfw_DNuRum",
    "outputId": "d812c6d7-c4ae-4aa6-a8e5-8161a906dae4"
   },
   "outputs": [
    {
     "data": {
      "text/plain": [
       "<AxesSubplot:>"
      ]
     },
     "execution_count": 104,
     "metadata": {},
     "output_type": "execute_result"
    },
    {
     "data": {
      "image/png": "[encoded data removed]",
      "text/plain": [
       "<Figure size 432x288 with 2 Axes>"
      ]
     },
     "metadata": {
      "needs_background": "light"
     },
     "output_type": "display_data"
    }
   ],
   "source": [
    "%matplotlib inline\n",
    "sns.heatmap(df.corr(),annot = True)"
   ]
  },
  {
   "cell_type": "code",
   "execution_count": 105,
   "metadata": {
    "colab": {
     "base_uri": "https://localhost:8080/",
     "height": 89
    },
    "id": "hCEIP74bumMm",
    "outputId": "84fb2984-92a1-4bc3-db2a-f7738068275e"
   },
   "outputs": [
    {
     "name": "stderr",
     "output_type": "stream",
     "text": [
      "C:\\Users\\Lenovo\\AppData\\Local\\Programs\\Python\\Python310\\lib\\site-packages\\seaborn\\_decorators.py:36: FutureWarning: Pass the following variables as keyword args: x, y. From version 0.12, the only valid positional argument will be `data`, and passing other arguments without an explicit keyword will result in an error or misinterpretation.\n",
      "  warnings.warn(\n"
     ]
    },
    {
     "data": {
      "text/plain": [
       "<AxesSubplot:xlabel='Brain', ylabel='Body'>"
      ]
     },
     "execution_count": 105,
     "metadata": {},
     "output_type": "execute_result"
    },
    {
     "data": {
      "image/png": "[encoded data removed]",
      "text/plain": [
       "<Figure size 432x288 with 1 Axes>"
      ]
     },
     "metadata": {
      "needs_background": "light"
     },
     "output_type": "display_data"
    }
   ],
   "source": [
    "sns.regplot('Brain','Body',data=dfk)"
   ]
  },
  {
   "cell_type": "code",
   "execution_count": 106,
   "metadata": {},
   "outputs": [
    {
     "name": "stderr",
     "output_type": "stream",
     "text": [
      "C:\\Users\\Lenovo\\AppData\\Local\\Programs\\Python\\Python310\\lib\\site-packages\\seaborn\\_decorators.py:36: FutureWarning: Pass the following variable as a keyword arg: x. From version 0.12, the only valid positional argument will be `data`, and passing other arguments without an explicit keyword will result in an error or misinterpretation.\n",
      "  warnings.warn(\n"
     ]
    },
    {
     "data": {
      "text/plain": [
       "<AxesSubplot:xlabel='Brain'>"
      ]
     },
     "execution_count": 106,
     "metadata": {},
     "output_type": "execute_result"
    },
    {
     "data": {
      "image/png": "[encoded data removed]",
      "text/plain": [
       "<Figure size 432x288 with 1 Axes>"
      ]
     },
     "metadata": {
      "needs_background": "light"
     },
     "output_type": "display_data"
    }
   ],
   "source": [
    "sns.boxplot(dfk['Brain'])"
   ]
  },
  {
   "cell_type": "code",
   "execution_count": 107,
   "metadata": {},
   "outputs": [
    {
     "name": "stderr",
     "output_type": "stream",
     "text": [
      "C:\\Users\\Lenovo\\AppData\\Local\\Programs\\Python\\Python310\\lib\\site-packages\\seaborn\\_decorators.py:36: FutureWarning: Pass the following variable as a keyword arg: x. From version 0.12, the only valid positional argument will be `data`, and passing other arguments without an explicit keyword will result in an error or misinterpretation.\n",
      "  warnings.warn(\n"
     ]
    },
    {
     "data": {
      "text/plain": [
       "<AxesSubplot:xlabel='Body'>"
      ]
     },
     "execution_count": 107,
     "metadata": {},
     "output_type": "execute_result"
    },
    {
     "data": {
      "image/png": "[encoded data removed]",
      "text/plain": [
       "<Figure size 432x288 with 1 Axes>"
      ]
     },
     "metadata": {
      "needs_background": "light"
     },
     "output_type": "display_data"
    }
   ],
   "source": [
    "sns.boxplot(dfk['Body'])"
   ]
  },
  {
   "cell_type": "code",
   "execution_count": 108,
   "metadata": {
    "id": "8gzzSUXQtYGM"
   },
   "outputs": [],
   "source": [
    "from sklearn.model_selection import train_test_split\n",
    "x_train,x_test,y_train,y_test = train_test_split(dfk['Brain'],dfk['Body'],test_size = 0.3)"
   ]
  },
  {
   "cell_type": "code",
   "execution_count": 109,
   "metadata": {},
   "outputs": [],
   "source": [
    "from sklearn.linear_model import LinearRegression"
   ]
  },
  {
   "cell_type": "code",
   "execution_count": 110,
   "metadata": {},
   "outputs": [],
   "source": [
    "from sklearn.metrics import r2_score,mean_squared_error"
   ]
  },
  {
   "cell_type": "code",
   "execution_count": 111,
   "metadata": {},
   "outputs": [],
   "source": [
    "model = LinearRegression()\n",
    "model.fit(x_train.values.reshape(-1,1),y_train.values.reshape(-1,1))\n",
    "pred = model.predict(x_test.values.reshape(-1,1))"
   ]
  },
  {
   "cell_type": "code",
   "execution_count": 112,
   "metadata": {},
   "outputs": [
    {
     "name": "stdout",
     "output_type": "stream",
     "text": [
      "r2 score = 0.9221277272747033\n",
      "mean squared error = 0.41447270638744693\n"
     ]
    }
   ],
   "source": [
    "print('r2 score = {}'.format(r2_score(y_true = y_test,y_pred = pred)))\n",
    "print('mean squared error = {}'.format(mean_squared_error(y_true = y_test,y_pred = pred)))"
   ]
  },
  {
   "cell_type": "code",
   "execution_count": 113,
   "metadata": {
    "id": "w3yv-7tes6Hn"
   },
   "outputs": [],
   "source": [
    "from sklearn.linear_model import SGDRegressor"
   ]
  },
  {
   "cell_type": "code",
   "execution_count": 114,
   "metadata": {
    "colab": {
     "base_uri": "https://localhost:8080/",
     "height": 72
    },
    "id": "9YrWivTBtBPQ",
    "outputId": "af31cbf3-9790-4243-a9c6-1c1f740ad788"
   },
   "outputs": [
    {
     "name": "stderr",
     "output_type": "stream",
     "text": [
      "C:\\Users\\Lenovo\\AppData\\Local\\Programs\\Python\\Python310\\lib\\site-packages\\sklearn\\utils\\validation.py:1111: DataConversionWarning: A column-vector y was passed when a 1d array was expected. Please change the shape of y to (n_samples, ), for example using ravel().\n",
      "  y = column_or_1d(y, warn=True)\n"
     ]
    }
   ],
   "source": [
    "model = SGDRegressor()\n",
    "model.fit(x_train.values.reshape(-1,1),y_train.values.reshape(-1,1))\n",
    "pred = model.predict(x_test.values.reshape(-1,1))\n"
   ]
  },
  {
   "cell_type": "code",
   "execution_count": 115,
   "metadata": {
    "id": "0yydEeZ_vMdh"
   },
   "outputs": [],
   "source": [
    "from sklearn.metrics import r2_score,mean_squared_error"
   ]
  },
  {
   "cell_type": "code",
   "execution_count": 116,
   "metadata": {
    "colab": {
     "base_uri": "https://localhost:8080/",
     "height": 34
    },
    "id": "uweuS0UevTkB",
    "outputId": "656f5a15-8680-448f-fe0b-2c1bafcfeceb"
   },
   "outputs": [
    {
     "data": {
      "text/plain": [
       "0.9183863807650191"
      ]
     },
     "execution_count": 116,
     "metadata": {},
     "output_type": "execute_result"
    }
   ],
   "source": [
    "r2_score(y_true = y_test,y_pred = pred)"
   ]
  },
  {
   "cell_type": "markdown",
   "metadata": {
    "id": "Z2kxuMa9PS9W"
   },
   "source": [
    "# Assignment7"
   ]
  },
  {
   "cell_type": "markdown",
   "metadata": {
    "id": "rxuEtxJVPS9X"
   },
   "source": [
    "## Salary Discrimination\n",
    "\n",
    "The file `salary.txt` contains data for 52 tenure-track professors at a small Midwestern college. This data was used in legal proceedings in the 1980s about discrimination against women in salary.\n",
    "\n",
    "The data in the file, by column:\n",
    "\n",
    "1. Sex. 1 for female, 0 for male.\n",
    "2. Rank. 1 for assistant professor, 2 for associate professor, 3 for full professor.\n",
    "3. Year. Number of years in current rank.\n",
    "4. Degree. Highest degree. 1 for doctorate, 0 for master's.\n",
    "5. YSdeg. Years since highest degree was earned.\n",
    "6. Salary. Salary/year in dollars.\n",
    "\n",
    "### Tasks\n",
    "\n",
    "1. Find the linear regression equation for this data using columns 1-5 to column 6.\n",
    "2. Find the selection of columns with the best $R^2$ score.\n",
    "3. Report whether sex is a factor in salary."
   ]
  },
  {
   "cell_type": "code",
   "execution_count": 64,
   "metadata": {
    "colab": {
     "base_uri": "https://localhost:8080/",
     "height": 328
    },
    "id": "cnrj2v2rPS9Y",
    "outputId": "2397df3f-e6e4-4e95-e92d-778778d80c4b"
   },
   "outputs": [],
   "source": [
    "sal = pd.read_fwf(\"C:\\\\Users\\\\Lenovo\\\\Downloads\\\\salary.txt\", header=None, \n",
    "                 names=[\"Sex\", \"Rank\", \"Year\", \"Degree\", \"YSdeg\", \"Salary\"])"
   ]
  },
  {
   "cell_type": "code",
   "execution_count": 65,
   "metadata": {
    "id": "9XQgldFufDGX"
   },
   "outputs": [
    {
     "data": {
      "text/html": [
       "<div>\n",
       "<style scoped>\n",
       "    .dataframe tbody tr th:only-of-type {\n",
       "        vertical-align: middle;\n",
       "    }\n",
       "\n",
       "    .dataframe tbody tr th {\n",
       "        vertical-align: top;\n",
       "    }\n",
       "\n",
       "    .dataframe thead th {\n",
       "        text-align: right;\n",
       "    }\n",
       "</style>\n",
       "<table border=\"1\" class=\"dataframe\">\n",
       "  <thead>\n",
       "    <tr style=\"text-align: right;\">\n",
       "      <th></th>\n",
       "      <th>Sex</th>\n",
       "      <th>Rank</th>\n",
       "      <th>Year</th>\n",
       "      <th>Degree</th>\n",
       "      <th>YSdeg</th>\n",
       "      <th>Salary</th>\n",
       "    </tr>\n",
       "  </thead>\n",
       "  <tbody>\n",
       "    <tr>\n",
       "      <th>0</th>\n",
       "      <td>0</td>\n",
       "      <td>3</td>\n",
       "      <td>25</td>\n",
       "      <td>1</td>\n",
       "      <td>35</td>\n",
       "      <td>36350</td>\n",
       "    </tr>\n",
       "    <tr>\n",
       "      <th>1</th>\n",
       "      <td>0</td>\n",
       "      <td>3</td>\n",
       "      <td>13</td>\n",
       "      <td>1</td>\n",
       "      <td>22</td>\n",
       "      <td>35350</td>\n",
       "    </tr>\n",
       "    <tr>\n",
       "      <th>2</th>\n",
       "      <td>0</td>\n",
       "      <td>3</td>\n",
       "      <td>10</td>\n",
       "      <td>1</td>\n",
       "      <td>23</td>\n",
       "      <td>28200</td>\n",
       "    </tr>\n",
       "    <tr>\n",
       "      <th>3</th>\n",
       "      <td>1</td>\n",
       "      <td>3</td>\n",
       "      <td>7</td>\n",
       "      <td>1</td>\n",
       "      <td>27</td>\n",
       "      <td>26775</td>\n",
       "    </tr>\n",
       "    <tr>\n",
       "      <th>4</th>\n",
       "      <td>0</td>\n",
       "      <td>3</td>\n",
       "      <td>19</td>\n",
       "      <td>0</td>\n",
       "      <td>30</td>\n",
       "      <td>33696</td>\n",
       "    </tr>\n",
       "    <tr>\n",
       "      <th>5</th>\n",
       "      <td>0</td>\n",
       "      <td>3</td>\n",
       "      <td>16</td>\n",
       "      <td>1</td>\n",
       "      <td>21</td>\n",
       "      <td>28516</td>\n",
       "    </tr>\n",
       "    <tr>\n",
       "      <th>6</th>\n",
       "      <td>1</td>\n",
       "      <td>3</td>\n",
       "      <td>0</td>\n",
       "      <td>0</td>\n",
       "      <td>32</td>\n",
       "      <td>24900</td>\n",
       "    </tr>\n",
       "    <tr>\n",
       "      <th>7</th>\n",
       "      <td>0</td>\n",
       "      <td>3</td>\n",
       "      <td>16</td>\n",
       "      <td>1</td>\n",
       "      <td>18</td>\n",
       "      <td>31909</td>\n",
       "    </tr>\n",
       "    <tr>\n",
       "      <th>8</th>\n",
       "      <td>0</td>\n",
       "      <td>3</td>\n",
       "      <td>13</td>\n",
       "      <td>0</td>\n",
       "      <td>30</td>\n",
       "      <td>31850</td>\n",
       "    </tr>\n",
       "    <tr>\n",
       "      <th>9</th>\n",
       "      <td>0</td>\n",
       "      <td>3</td>\n",
       "      <td>13</td>\n",
       "      <td>0</td>\n",
       "      <td>31</td>\n",
       "      <td>32850</td>\n",
       "    </tr>\n",
       "  </tbody>\n",
       "</table>\n",
       "</div>"
      ],
      "text/plain": [
       "   Sex  Rank  Year  Degree  YSdeg  Salary\n",
       "0    0     3    25       1     35   36350\n",
       "1    0     3    13       1     22   35350\n",
       "2    0     3    10       1     23   28200\n",
       "3    1     3     7       1     27   26775\n",
       "4    0     3    19       0     30   33696\n",
       "5    0     3    16       1     21   28516\n",
       "6    1     3     0       0     32   24900\n",
       "7    0     3    16       1     18   31909\n",
       "8    0     3    13       0     30   31850\n",
       "9    0     3    13       0     31   32850"
      ]
     },
     "execution_count": 65,
     "metadata": {},
     "output_type": "execute_result"
    }
   ],
   "source": [
    "sal.head(10)"
   ]
  },
  {
   "cell_type": "code",
   "execution_count": 66,
   "metadata": {},
   "outputs": [
    {
     "data": {
      "text/html": [
       "<div>\n",
       "<style scoped>\n",
       "    .dataframe tbody tr th:only-of-type {\n",
       "        vertical-align: middle;\n",
       "    }\n",
       "\n",
       "    .dataframe tbody tr th {\n",
       "        vertical-align: top;\n",
       "    }\n",
       "\n",
       "    .dataframe thead th {\n",
       "        text-align: right;\n",
       "    }\n",
       "</style>\n",
       "<table border=\"1\" class=\"dataframe\">\n",
       "  <thead>\n",
       "    <tr style=\"text-align: right;\">\n",
       "      <th></th>\n",
       "      <th>Sex</th>\n",
       "      <th>Rank</th>\n",
       "      <th>Year</th>\n",
       "      <th>Degree</th>\n",
       "      <th>YSdeg</th>\n",
       "      <th>Salary</th>\n",
       "    </tr>\n",
       "  </thead>\n",
       "  <tbody>\n",
       "    <tr>\n",
       "      <th>count</th>\n",
       "      <td>52.000000</td>\n",
       "      <td>52.000000</td>\n",
       "      <td>52.000000</td>\n",
       "      <td>52.000000</td>\n",
       "      <td>52.000000</td>\n",
       "      <td>52.000000</td>\n",
       "    </tr>\n",
       "    <tr>\n",
       "      <th>mean</th>\n",
       "      <td>0.269231</td>\n",
       "      <td>2.038462</td>\n",
       "      <td>7.480769</td>\n",
       "      <td>0.653846</td>\n",
       "      <td>16.115385</td>\n",
       "      <td>23797.653846</td>\n",
       "    </tr>\n",
       "    <tr>\n",
       "      <th>std</th>\n",
       "      <td>0.447888</td>\n",
       "      <td>0.862316</td>\n",
       "      <td>5.507536</td>\n",
       "      <td>0.480384</td>\n",
       "      <td>10.222340</td>\n",
       "      <td>5917.289154</td>\n",
       "    </tr>\n",
       "    <tr>\n",
       "      <th>min</th>\n",
       "      <td>0.000000</td>\n",
       "      <td>1.000000</td>\n",
       "      <td>0.000000</td>\n",
       "      <td>0.000000</td>\n",
       "      <td>1.000000</td>\n",
       "      <td>15000.000000</td>\n",
       "    </tr>\n",
       "    <tr>\n",
       "      <th>25%</th>\n",
       "      <td>0.000000</td>\n",
       "      <td>1.000000</td>\n",
       "      <td>3.000000</td>\n",
       "      <td>0.000000</td>\n",
       "      <td>6.750000</td>\n",
       "      <td>18246.750000</td>\n",
       "    </tr>\n",
       "    <tr>\n",
       "      <th>50%</th>\n",
       "      <td>0.000000</td>\n",
       "      <td>2.000000</td>\n",
       "      <td>7.000000</td>\n",
       "      <td>1.000000</td>\n",
       "      <td>15.500000</td>\n",
       "      <td>23719.000000</td>\n",
       "    </tr>\n",
       "    <tr>\n",
       "      <th>75%</th>\n",
       "      <td>1.000000</td>\n",
       "      <td>3.000000</td>\n",
       "      <td>11.000000</td>\n",
       "      <td>1.000000</td>\n",
       "      <td>23.250000</td>\n",
       "      <td>27258.500000</td>\n",
       "    </tr>\n",
       "    <tr>\n",
       "      <th>max</th>\n",
       "      <td>1.000000</td>\n",
       "      <td>3.000000</td>\n",
       "      <td>25.000000</td>\n",
       "      <td>1.000000</td>\n",
       "      <td>35.000000</td>\n",
       "      <td>38045.000000</td>\n",
       "    </tr>\n",
       "  </tbody>\n",
       "</table>\n",
       "</div>"
      ],
      "text/plain": [
       "             Sex       Rank       Year     Degree      YSdeg        Salary\n",
       "count  52.000000  52.000000  52.000000  52.000000  52.000000     52.000000\n",
       "mean    0.269231   2.038462   7.480769   0.653846  16.115385  23797.653846\n",
       "std     0.447888   0.862316   5.507536   0.480384  10.222340   5917.289154\n",
       "min     0.000000   1.000000   0.000000   0.000000   1.000000  15000.000000\n",
       "25%     0.000000   1.000000   3.000000   0.000000   6.750000  18246.750000\n",
       "50%     0.000000   2.000000   7.000000   1.000000  15.500000  23719.000000\n",
       "75%     1.000000   3.000000  11.000000   1.000000  23.250000  27258.500000\n",
       "max     1.000000   3.000000  25.000000   1.000000  35.000000  38045.000000"
      ]
     },
     "execution_count": 66,
     "metadata": {},
     "output_type": "execute_result"
    }
   ],
   "source": [
    "sal.describe()"
   ]
  },
  {
   "cell_type": "code",
   "execution_count": 67,
   "metadata": {},
   "outputs": [
    {
     "data": {
      "text/plain": [
       "<AxesSubplot:xlabel='Sex', ylabel='Density'>"
      ]
     },
     "execution_count": 67,
     "metadata": {},
     "output_type": "execute_result"
    },
    {
     "data": {
      "image/png": "[encoded data removed]",
      "text/plain": [
       "<Figure size 432x288 with 1 Axes>"
      ]
     },
     "metadata": {
      "needs_background": "light"
     },
     "output_type": "display_data"
    }
   ],
   "source": [
    "sns.kdeplot(sal['Sex'])"
   ]
  },
  {
   "cell_type": "code",
   "execution_count": 68,
   "metadata": {},
   "outputs": [
    {
     "data": {
      "text/plain": [
       "0    38\n",
       "1    14\n",
       "Name: Sex, dtype: int64"
      ]
     },
     "execution_count": 68,
     "metadata": {},
     "output_type": "execute_result"
    }
   ],
   "source": [
    "sal['Sex'].value_counts()"
   ]
  },
  {
   "cell_type": "code",
   "execution_count": 69,
   "metadata": {
    "id": "hT3Dy0Pkv-B9"
   },
   "outputs": [
    {
     "data": {
      "image/png": "[encoded data removed]",
      "text/plain": [
       "<Figure size 432x288 with 1 Axes>"
      ]
     },
     "metadata": {
      "needs_background": "light"
     },
     "output_type": "display_data"
    },
    {
     "data": {
      "image/png": "[encoded data removed]",
      "text/plain": [
       "<Figure size 432x288 with 1 Axes>"
      ]
     },
     "metadata": {
      "needs_background": "light"
     },
     "output_type": "display_data"
    },
    {
     "data": {
      "image/png": "[encoded data removed]",
      "text/plain": [
       "<Figure size 432x288 with 1 Axes>"
      ]
     },
     "metadata": {
      "needs_background": "light"
     },
     "output_type": "display_data"
    },
    {
     "data": {
      "image/png": "[encoded data removed]",
      "text/plain": [
       "<Figure size 432x288 with 1 Axes>"
      ]
     },
     "metadata": {
      "needs_background": "light"
     },
     "output_type": "display_data"
    },
    {
     "data": {
      "image/png": "[encoded data removed]",
      "text/plain": [
       "<Figure size 432x288 with 1 Axes>"
      ]
     },
     "metadata": {
      "needs_background": "light"
     },
     "output_type": "display_data"
    }
   ],
   "source": [
    "for i in sal.columns:\n",
    "    if i!='Salary':\n",
    "        sal.groupby(i)['Salary'].mean().plot.bar()\n",
    "        plt.xlabel(i)\n",
    "        plt.ylabel('Salary')\n",
    "        plt.show()"
   ]
  },
  {
   "cell_type": "markdown",
   "metadata": {},
   "source": [
    "### o - for male and 1 - for female "
   ]
  },
  {
   "cell_type": "code",
   "execution_count": null,
   "metadata": {},
   "outputs": [],
   "source": []
  },
  {
   "cell_type": "code",
   "execution_count": 70,
   "metadata": {},
   "outputs": [],
   "source": [
    "x = [i for i in sal.columns if i!= 'Salary']"
   ]
  },
  {
   "cell_type": "code",
   "execution_count": 71,
   "metadata": {},
   "outputs": [],
   "source": [
    "x = sal[x]"
   ]
  },
  {
   "cell_type": "code",
   "execution_count": 72,
   "metadata": {},
   "outputs": [],
   "source": [
    "y = sal['Salary']"
   ]
  },
  {
   "cell_type": "code",
   "execution_count": 73,
   "metadata": {},
   "outputs": [],
   "source": [
    "from sklearn.model_selection import train_test_split"
   ]
  },
  {
   "cell_type": "code",
   "execution_count": 74,
   "metadata": {},
   "outputs": [],
   "source": [
    "x_train,x_test,y_train,y_test = train_test_split(x,y)"
   ]
  },
  {
   "cell_type": "code",
   "execution_count": 75,
   "metadata": {},
   "outputs": [],
   "source": [
    "from sklearn.linear_model import SGDRegressor,LinearRegression"
   ]
  },
  {
   "cell_type": "code",
   "execution_count": 76,
   "metadata": {},
   "outputs": [],
   "source": [
    "model1 = LinearRegression()\n",
    "model1.fit(x_train,y_train)\n",
    "pred = model1.predict(x_test)"
   ]
  },
  {
   "cell_type": "code",
   "execution_count": 77,
   "metadata": {},
   "outputs": [
    {
     "data": {
      "text/plain": [
       "0.782448803725734"
      ]
     },
     "execution_count": 77,
     "metadata": {},
     "output_type": "execute_result"
    }
   ],
   "source": [
    "r2_score(y_true = y_test,y_pred = pred)"
   ]
  },
  {
   "cell_type": "markdown",
   "metadata": {},
   "source": [
    "## average salary for male and female "
   ]
  },
  {
   "cell_type": "code",
   "execution_count": 84,
   "metadata": {},
   "outputs": [
    {
     "data": {
      "text/plain": [
       "Sex\n",
       "0    24696.789474\n",
       "1    21357.142857\n",
       "Name: Salary, dtype: float64"
      ]
     },
     "execution_count": 84,
     "metadata": {},
     "output_type": "execute_result"
    }
   ],
   "source": [
    "sal.groupby('Sex')['Salary'].mean()"
   ]
  },
  {
   "cell_type": "code",
   "execution_count": 89,
   "metadata": {},
   "outputs": [
    {
     "data": {
      "text/plain": [
       "<AxesSubplot:xlabel='Sex'>"
      ]
     },
     "execution_count": 89,
     "metadata": {},
     "output_type": "execute_result"
    },
    {
     "data": {
      "image/png": "[encoded data removed]",
      "text/plain": [
       "<Figure size 432x288 with 1 Axes>"
      ]
     },
     "metadata": {
      "needs_background": "light"
     },
     "output_type": "display_data"
    }
   ],
   "source": [
    "sal.groupby('Sex')['Salary'].mean().plot()"
   ]
  },
  {
   "cell_type": "markdown",
   "metadata": {},
   "source": [
    "### As from the data and plots we can see that females are paid less salary then compared to males"
   ]
  }
 ],
 "metadata": {
  "colab": {
   "collapsed_sections": [],
   "name": "Copy of Assignment5_6_7.ipynb",
   "provenance": []
  },
  "kernelspec": {
   "display_name": "Python 3 (ipykernel)",
   "language": "python",
   "name": "python3"
  },
  "language_info": {
   "codemirror_mode": {
    "name": "ipython",
    "version": 3
   },
   "file_extension": ".py",
   "mimetype": "text/x-python",
   "name": "python",
   "nbconvert_exporter": "python",
   "pygments_lexer": "ipython3",
   "version": "3.10.5"
  }
 },
 "nbformat": 4,
 "nbformat_minor": 1
}
